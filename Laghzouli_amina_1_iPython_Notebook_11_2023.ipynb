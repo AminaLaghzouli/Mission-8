{
 "cells": [
  {
   "cell_type": "markdown",
   "id": "8ea5dde0",
   "metadata": {},
   "source": [
    "# OpenClassrooms - parcours Data Analyst Business Intelligence - P8"
   ]
  },
  {
   "cell_type": "markdown",
   "id": "54cde67e",
   "metadata": {},
   "source": [
    "# Milestone 1 - Analyse des données"
   ]
  },
  {
   "cell_type": "markdown",
   "id": "10c1c891",
   "metadata": {},
   "source": [
    "Dans cette partie nous allons analyser le jeu de données que nous avons à notre disposition. Notre objectif est de comprendre les relations entre les variables, et surtout, celles qui influent sur le prix des transactions immobilières. Grâce à ce travail, nous pourrons ne conserver que les variables qui seront utiles à l'apprentissage de notre algorithme."
   ]
  },
  {
   "cell_type": "markdown",
   "id": "0536dfdf",
   "metadata": {},
   "source": [
    "## 1.Type des données"
   ]
  },
  {
   "cell_type": "markdown",
   "id": "a2a6c7c1",
   "metadata": {},
   "source": [
    "La première étape à réaliser est d'importer les données dans le notebook et d'opérer des transformations sur les variables si celles-ci s'imposent (exemple : nettoyage ou changement de type des variables, etc.)."
   ]
  },
  {
   "cell_type": "code",
   "execution_count": 95,
   "id": "8a4de40f",
   "metadata": {},
   "outputs": [],
   "source": [
    "#On importe les librairies que nous utiliserons pour traiter les données et les visualiser\n",
    "# N'oubliez pas d'avoir installé les librairies pandas, numpy et matplotlib via la commande pip"
   ]
  },
  {
   "cell_type": "code",
   "execution_count": 96,
   "id": "bc7671eb",
   "metadata": {},
   "outputs": [],
   "source": [
    "import pandas as pd\n",
    "import numpy as np\n",
    "import matplotlib.pyplot as plt\n"
   ]
  },
  {
   "cell_type": "code",
   "execution_count": 97,
   "id": "e37285c7",
   "metadata": {},
   "outputs": [
    {
     "name": "stdout",
     "output_type": "stream",
     "text": [
      "Requirement already satisfied: plotly in c:\\users\\laghz\\anaconda3\\lib\\site-packages (5.9.0)Note: you may need to restart the kernel to use updated packages.\n",
      "\n",
      "Requirement already satisfied: tenacity>=6.2.0 in c:\\users\\laghz\\anaconda3\\lib\\site-packages (from plotly) (8.2.2)\n"
     ]
    }
   ],
   "source": [
    "pip install plotly"
   ]
  },
  {
   "cell_type": "code",
   "execution_count": 98,
   "id": "ecfb7fb7",
   "metadata": {},
   "outputs": [],
   "source": [
    "import plotly.express as px"
   ]
  },
  {
   "cell_type": "code",
   "execution_count": 99,
   "id": "9b43d9e3",
   "metadata": {},
   "outputs": [
    {
     "data": {
      "text/html": [
       "<div>\n",
       "<style scoped>\n",
       "    .dataframe tbody tr th:only-of-type {\n",
       "        vertical-align: middle;\n",
       "    }\n",
       "\n",
       "    .dataframe tbody tr th {\n",
       "        vertical-align: top;\n",
       "    }\n",
       "\n",
       "    .dataframe thead th {\n",
       "        text-align: right;\n",
       "    }\n",
       "</style>\n",
       "<table border=\"1\" class=\"dataframe\">\n",
       "  <thead>\n",
       "    <tr style=\"text-align: right;\">\n",
       "      <th></th>\n",
       "      <th>date_mutation</th>\n",
       "      <th>valeur_fonciere</th>\n",
       "      <th>adresse_numero</th>\n",
       "      <th>adresse_nom_voie</th>\n",
       "      <th>code_postal</th>\n",
       "      <th>nom_commune</th>\n",
       "      <th>code_type_local</th>\n",
       "      <th>type_local</th>\n",
       "      <th>surface_reelle</th>\n",
       "    </tr>\n",
       "  </thead>\n",
       "  <tbody>\n",
       "    <tr>\n",
       "      <th>0</th>\n",
       "      <td>2017-01-03</td>\n",
       "      <td>5.505597e+05</td>\n",
       "      <td>8</td>\n",
       "      <td>RUE DES COUTURES SAINT GERVAIS</td>\n",
       "      <td>75003</td>\n",
       "      <td>Paris 3e Arrondissement</td>\n",
       "      <td>2</td>\n",
       "      <td>Appartement</td>\n",
       "      <td>50</td>\n",
       "    </tr>\n",
       "    <tr>\n",
       "      <th>1</th>\n",
       "      <td>2017-01-12</td>\n",
       "      <td>1.576492e+06</td>\n",
       "      <td>32</td>\n",
       "      <td>AV MARCEAU</td>\n",
       "      <td>75008</td>\n",
       "      <td>Paris 8e Arrondissement</td>\n",
       "      <td>2</td>\n",
       "      <td>Appartement</td>\n",
       "      <td>163</td>\n",
       "    </tr>\n",
       "    <tr>\n",
       "      <th>2</th>\n",
       "      <td>2017-01-10</td>\n",
       "      <td>6.577574e+05</td>\n",
       "      <td>52</td>\n",
       "      <td>RUE DU FAUBOURG SAINT HONORE</td>\n",
       "      <td>75008</td>\n",
       "      <td>Paris 8e Arrondissement</td>\n",
       "      <td>2</td>\n",
       "      <td>Appartement</td>\n",
       "      <td>66</td>\n",
       "    </tr>\n",
       "    <tr>\n",
       "      <th>3</th>\n",
       "      <td>2017-01-10</td>\n",
       "      <td>2.500868e+05</td>\n",
       "      <td>64</td>\n",
       "      <td>RUE DU VERTBOIS</td>\n",
       "      <td>75003</td>\n",
       "      <td>Paris 3e Arrondissement</td>\n",
       "      <td>2</td>\n",
       "      <td>Appartement</td>\n",
       "      <td>22</td>\n",
       "    </tr>\n",
       "    <tr>\n",
       "      <th>4</th>\n",
       "      <td>2017-01-13</td>\n",
       "      <td>1.762667e+05</td>\n",
       "      <td>25</td>\n",
       "      <td>RUE DES LAVANDIERES STE OPPORT</td>\n",
       "      <td>75001</td>\n",
       "      <td>Paris 1er Arrondissement</td>\n",
       "      <td>2</td>\n",
       "      <td>Appartement</td>\n",
       "      <td>15</td>\n",
       "    </tr>\n",
       "  </tbody>\n",
       "</table>\n",
       "</div>"
      ],
      "text/plain": [
       "  date_mutation  valeur_fonciere  adresse_numero  \\\n",
       "0    2017-01-03     5.505597e+05               8   \n",
       "1    2017-01-12     1.576492e+06              32   \n",
       "2    2017-01-10     6.577574e+05              52   \n",
       "3    2017-01-10     2.500868e+05              64   \n",
       "4    2017-01-13     1.762667e+05              25   \n",
       "\n",
       "                 adresse_nom_voie  code_postal               nom_commune  \\\n",
       "0  RUE DES COUTURES SAINT GERVAIS        75003   Paris 3e Arrondissement   \n",
       "1                      AV MARCEAU        75008   Paris 8e Arrondissement   \n",
       "2    RUE DU FAUBOURG SAINT HONORE        75008   Paris 8e Arrondissement   \n",
       "3                 RUE DU VERTBOIS        75003   Paris 3e Arrondissement   \n",
       "4  RUE DES LAVANDIERES STE OPPORT        75001  Paris 1er Arrondissement   \n",
       "\n",
       "   code_type_local   type_local  surface_reelle  \n",
       "0                2  Appartement              50  \n",
       "1                2  Appartement             163  \n",
       "2                2  Appartement              66  \n",
       "3                2  Appartement              22  \n",
       "4                2  Appartement              15  "
      ]
     },
     "execution_count": 99,
     "metadata": {},
     "output_type": "execute_result"
    }
   ],
   "source": [
    "#On importe les données dans un dataframe\n",
    "historique_im= pd.read_excel(\"historique_immobilier_paris_2017_2021_vdef2.xlsx\")\n",
    "historique_im.head()"
   ]
  },
  {
   "cell_type": "code",
   "execution_count": 100,
   "id": "895d5416",
   "metadata": {},
   "outputs": [
    {
     "data": {
      "text/html": [
       "<div>\n",
       "<style scoped>\n",
       "    .dataframe tbody tr th:only-of-type {\n",
       "        vertical-align: middle;\n",
       "    }\n",
       "\n",
       "    .dataframe tbody tr th {\n",
       "        vertical-align: top;\n",
       "    }\n",
       "\n",
       "    .dataframe thead th {\n",
       "        text-align: right;\n",
       "    }\n",
       "</style>\n",
       "<table border=\"1\" class=\"dataframe\">\n",
       "  <thead>\n",
       "    <tr style=\"text-align: right;\">\n",
       "      <th></th>\n",
       "      <th>adresse_numero</th>\n",
       "      <th>adresse_nom_voie</th>\n",
       "      <th>code_postal</th>\n",
       "      <th>code_commune</th>\n",
       "      <th>nom_commune</th>\n",
       "      <th>surface_carrez</th>\n",
       "      <th>code_type_local</th>\n",
       "      <th>type_local</th>\n",
       "      <th>surface_reelle_bati</th>\n",
       "      <th>nombre_pieces_principales</th>\n",
       "      <th>longitude</th>\n",
       "      <th>latitude</th>\n",
       "    </tr>\n",
       "  </thead>\n",
       "  <tbody>\n",
       "    <tr>\n",
       "      <th>0</th>\n",
       "      <td>127</td>\n",
       "      <td>RUE SAINT-DENIS</td>\n",
       "      <td>75001</td>\n",
       "      <td>75101</td>\n",
       "      <td>Paris 1er Arrondissement</td>\n",
       "      <td>16.41</td>\n",
       "      <td>2</td>\n",
       "      <td>Appartement</td>\n",
       "      <td>25</td>\n",
       "      <td>1</td>\n",
       "      <td>2.349593</td>\n",
       "      <td>48.863227</td>\n",
       "    </tr>\n",
       "    <tr>\n",
       "      <th>1</th>\n",
       "      <td>62</td>\n",
       "      <td>RUE NOTRE-DAME DE NAZARETH</td>\n",
       "      <td>75003</td>\n",
       "      <td>75103</td>\n",
       "      <td>Paris 3e Arrondissement</td>\n",
       "      <td>20.47</td>\n",
       "      <td>2</td>\n",
       "      <td>Appartement</td>\n",
       "      <td>22</td>\n",
       "      <td>1</td>\n",
       "      <td>2.356977</td>\n",
       "      <td>48.867907</td>\n",
       "    </tr>\n",
       "    <tr>\n",
       "      <th>2</th>\n",
       "      <td>62</td>\n",
       "      <td>RUE DE TURENNE</td>\n",
       "      <td>75003</td>\n",
       "      <td>75103</td>\n",
       "      <td>Paris 3e Arrondissement</td>\n",
       "      <td>64.48</td>\n",
       "      <td>2</td>\n",
       "      <td>Appartement</td>\n",
       "      <td>65</td>\n",
       "      <td>3</td>\n",
       "      <td>2.364855</td>\n",
       "      <td>48.859318</td>\n",
       "    </tr>\n",
       "    <tr>\n",
       "      <th>3</th>\n",
       "      <td>32</td>\n",
       "      <td>AV GEORGE V</td>\n",
       "      <td>75008</td>\n",
       "      <td>75108</td>\n",
       "      <td>Paris 8e Arrondissement</td>\n",
       "      <td>63.29</td>\n",
       "      <td>2</td>\n",
       "      <td>Appartement</td>\n",
       "      <td>74</td>\n",
       "      <td>2</td>\n",
       "      <td>2.301586</td>\n",
       "      <td>48.868893</td>\n",
       "    </tr>\n",
       "    <tr>\n",
       "      <th>4</th>\n",
       "      <td>152</td>\n",
       "      <td>BD HAUSSMANN</td>\n",
       "      <td>75008</td>\n",
       "      <td>75108</td>\n",
       "      <td>Paris 8e Arrondissement</td>\n",
       "      <td>20.58</td>\n",
       "      <td>2</td>\n",
       "      <td>Appartement</td>\n",
       "      <td>22</td>\n",
       "      <td>1</td>\n",
       "      <td>2.311643</td>\n",
       "      <td>48.875490</td>\n",
       "    </tr>\n",
       "  </tbody>\n",
       "</table>\n",
       "</div>"
      ],
      "text/plain": [
       "   adresse_numero            adresse_nom_voie  code_postal  code_commune  \\\n",
       "0             127             RUE SAINT-DENIS        75001         75101   \n",
       "1              62  RUE NOTRE-DAME DE NAZARETH        75003         75103   \n",
       "2              62              RUE DE TURENNE        75003         75103   \n",
       "3              32                 AV GEORGE V        75008         75108   \n",
       "4             152                BD HAUSSMANN        75008         75108   \n",
       "\n",
       "                nom_commune  surface_carrez  code_type_local   type_local  \\\n",
       "0  Paris 1er Arrondissement           16.41                2  Appartement   \n",
       "1   Paris 3e Arrondissement           20.47                2  Appartement   \n",
       "2   Paris 3e Arrondissement           64.48                2  Appartement   \n",
       "3   Paris 8e Arrondissement           63.29                2  Appartement   \n",
       "4   Paris 8e Arrondissement           20.58                2  Appartement   \n",
       "\n",
       "   surface_reelle_bati  nombre_pieces_principales  longitude   latitude  \n",
       "0                   25                          1   2.349593  48.863227  \n",
       "1                   22                          1   2.356977  48.867907  \n",
       "2                   65                          3   2.364855  48.859318  \n",
       "3                   74                          2   2.301586  48.868893  \n",
       "4                   22                          1   2.311643  48.875490  "
      ]
     },
     "execution_count": 100,
     "metadata": {},
     "output_type": "execute_result"
    }
   ],
   "source": [
    "portefeuille_actifs= pd.read_excel(\"portefeuille_actifs+(3) (1).xlsx\")\n",
    "portefeuille_actifs.head()"
   ]
  },
  {
   "cell_type": "markdown",
   "id": "70dc6974",
   "metadata": {},
   "source": [
    "Attention, si l'opération ci-dessus ne marche pas, il se peut que le package \"openpyxl\" ne soit pas présent sur votre ordinateur. Si c'est le cas vous pouvez l'installer en éxécutant la commande : pip install openpyxl ou conda install openpyxl."
   ]
  },
  {
   "cell_type": "code",
   "execution_count": 101,
   "id": "3655b793",
   "metadata": {},
   "outputs": [],
   "source": [
    "#On vérifie que le type des données attribué par pandas est cohérent"
   ]
  },
  {
   "cell_type": "code",
   "execution_count": 102,
   "id": "d1e8506e",
   "metadata": {},
   "outputs": [],
   "source": [
    "#historique_immobilier_paris_2017_2021_vdef2"
   ]
  },
  {
   "cell_type": "code",
   "execution_count": 103,
   "id": "9b52da29",
   "metadata": {},
   "outputs": [
    {
     "name": "stdout",
     "output_type": "stream",
     "text": [
      "(26196, 9)\n"
     ]
    }
   ],
   "source": [
    "#Afficher les dimensions du dataset\n",
    "print(historique_im.shape)"
   ]
  },
  {
   "cell_type": "code",
   "execution_count": 104,
   "id": "3bdbf792",
   "metadata": {},
   "outputs": [
    {
     "name": "stdout",
     "output_type": "stream",
     "text": [
      "9\n"
     ]
    }
   ],
   "source": [
    "#Consulter le nombre de colonnes\n",
    "print(len(historique_im.columns))\n"
   ]
  },
  {
   "cell_type": "code",
   "execution_count": 105,
   "id": "a76ddbce",
   "metadata": {},
   "outputs": [
    {
     "name": "stdout",
     "output_type": "stream",
     "text": [
      "date_mutation       datetime64[ns]\n",
      "valeur_fonciere            float64\n",
      "adresse_numero               int64\n",
      "adresse_nom_voie            object\n",
      "code_postal                  int64\n",
      "nom_commune                 object\n",
      "code_type_local              int64\n",
      "type_local                  object\n",
      "surface_reelle               int64\n",
      "dtype: object\n"
     ]
    }
   ],
   "source": [
    "#La nature des données dans chacune des colonnes\n",
    "print(historique_im.dtypes)"
   ]
  },
  {
   "cell_type": "code",
   "execution_count": 106,
   "id": "c499e39d",
   "metadata": {},
   "outputs": [],
   "source": [
    "#portefeuille_actifs+(3)(1)"
   ]
  },
  {
   "cell_type": "code",
   "execution_count": 107,
   "id": "7a4fc0fa",
   "metadata": {},
   "outputs": [
    {
     "name": "stdout",
     "output_type": "stream",
     "text": [
      "(275, 12)\n"
     ]
    }
   ],
   "source": [
    "print(portefeuille_actifs.shape)"
   ]
  },
  {
   "cell_type": "code",
   "execution_count": 108,
   "id": "f5d1b550",
   "metadata": {},
   "outputs": [
    {
     "name": "stdout",
     "output_type": "stream",
     "text": [
      "12\n"
     ]
    }
   ],
   "source": [
    "print(len(portefeuille_actifs.columns))"
   ]
  },
  {
   "cell_type": "code",
   "execution_count": 109,
   "id": "af274154",
   "metadata": {},
   "outputs": [
    {
     "name": "stdout",
     "output_type": "stream",
     "text": [
      "adresse_numero                 int64\n",
      "adresse_nom_voie              object\n",
      "code_postal                    int64\n",
      "code_commune                   int64\n",
      "nom_commune                   object\n",
      "surface_carrez               float64\n",
      "code_type_local                int64\n",
      "type_local                    object\n",
      "surface_reelle_bati            int64\n",
      "nombre_pieces_principales      int64\n",
      "longitude                    float64\n",
      "latitude                     float64\n",
      "dtype: object\n"
     ]
    }
   ],
   "source": [
    "print(portefeuille_actifs.dtypes)"
   ]
  },
  {
   "cell_type": "markdown",
   "id": "71c6c622",
   "metadata": {},
   "source": [
    "### 2. Regardons les différents types de biens immobiliers que nous avons dans nos données :"
   ]
  },
  {
   "cell_type": "code",
   "execution_count": 110,
   "id": "746ed1b1",
   "metadata": {},
   "outputs": [
    {
     "name": "stdout",
     "output_type": "stream",
     "text": [
      "['la liste des différents types de biens immobiliers que nous avons dans les données est :Appartement'\n",
      " 'la liste des différents types de biens immobiliers que nous avons dans les données est :Local industriel. commercial ou assimilé']\n"
     ]
    }
   ],
   "source": [
    "print('la liste des différents types de biens immobiliers que nous avons dans les données est :'+ (historique_im.type_local.unique()))"
   ]
  },
  {
   "cell_type": "code",
   "execution_count": 111,
   "id": "49dac0f6",
   "metadata": {},
   "outputs": [
    {
     "name": "stdout",
     "output_type": "stream",
     "text": [
      "la liste des différents types de biens immobiliers que nous avons dans les données est :type_local\n",
      "Appartement                                 [2]\n",
      "Local industriel. commercial ou assimilé    [4]\n",
      "Name: code_type_local, dtype: object\n"
     ]
    }
   ],
   "source": [
    "print('la liste des différents types de biens immobiliers que nous avons dans les données est :'+str(historique_im.groupby('type_local')['code_type_local'].unique()))"
   ]
  },
  {
   "cell_type": "markdown",
   "id": "f38e5dd1",
   "metadata": {},
   "source": [
    "On observe qu'il y a ? types de biens, et que leurs codes types sont ?. "
   ]
  },
  {
   "cell_type": "markdown",
   "id": "6416e560",
   "metadata": {},
   "source": [
    "### 3. Nombre de transactions"
   ]
  },
  {
   "cell_type": "code",
   "execution_count": 112,
   "id": "d27c307b",
   "metadata": {},
   "outputs": [],
   "source": [
    "#On verifie le nombre de transactions que nous avons dans notre dataframe"
   ]
  },
  {
   "cell_type": "code",
   "execution_count": 113,
   "id": "06b2653a",
   "metadata": {},
   "outputs": [
    {
     "name": "stdout",
     "output_type": "stream",
     "text": [
      "le nombre de transactions dans les données est 26196\n"
     ]
    }
   ],
   "source": [
    "print('le nombre de transactions dans les données est '+ str(len(historique_im.index)))"
   ]
  },
  {
   "cell_type": "code",
   "execution_count": 114,
   "id": "52ee9b9b",
   "metadata": {},
   "outputs": [
    {
     "name": "stdout",
     "output_type": "stream",
     "text": [
      "le nombre de transactions pour les appartements dans les données est 24353\n"
     ]
    }
   ],
   "source": [
    "print('le nombre de transactions pour les appartements dans les données est '  +  str (historique_im[historique_im['type_local']=='Appartement'].shape[0]))\n"
   ]
  },
  {
   "cell_type": "code",
   "execution_count": 115,
   "id": "5bb3b17f",
   "metadata": {},
   "outputs": [
    {
     "name": "stdout",
     "output_type": "stream",
     "text": [
      "le nombre de transactions pour les locaux commerciaux dans les données est 1843\n"
     ]
    }
   ],
   "source": [
    "print('le nombre de transactions pour les locaux commerciaux dans les données est '  +  str (historique_im[historique_im['type_local']=='Local industriel. commercial ou assimilé'].shape[0]))"
   ]
  },
  {
   "cell_type": "markdown",
   "id": "4601fdac",
   "metadata": {},
   "source": [
    "### 4. interval de l'historique des données"
   ]
  },
  {
   "cell_type": "code",
   "execution_count": 116,
   "id": "023ef741",
   "metadata": {},
   "outputs": [
    {
     "name": "stdout",
     "output_type": "stream",
     "text": [
      "la première date de transaction dans les données est le ?\n",
      "la dernière date de transaction dans les données est le ?\n"
     ]
    }
   ],
   "source": [
    "#On vérifie également la plage de l'historique disponible\n",
    "print('la première date de transaction dans les données est le ?')\n",
    "print('la dernière date de transaction dans les données est le ?')"
   ]
  },
  {
   "cell_type": "code",
   "execution_count": 117,
   "id": "0910d73e",
   "metadata": {},
   "outputs": [
    {
     "name": "stdout",
     "output_type": "stream",
     "text": [
      "la première date de transaction dans les données est le 2017-01-02 00:00:00\n"
     ]
    }
   ],
   "source": [
    "print('la première date de transaction dans les données est le '+ str(historique_im.date_mutation.min()))"
   ]
  },
  {
   "cell_type": "code",
   "execution_count": 118,
   "id": "1ec14a9d",
   "metadata": {},
   "outputs": [
    {
     "name": "stdout",
     "output_type": "stream",
     "text": [
      "la dernière date de transaction dans les données est le 2021-12-31 00:00:00\n"
     ]
    }
   ],
   "source": [
    "print('la dernière date de transaction dans les données est le ' + str(historique_im.date_mutation.max()))"
   ]
  },
  {
   "cell_type": "markdown",
   "id": "92964843",
   "metadata": {},
   "source": [
    "## Commençons à analyser les données"
   ]
  },
  {
   "cell_type": "markdown",
   "id": "ae74642d",
   "metadata": {},
   "source": [
    "Maintenant nous allons analyser les données historiques pour les 2 différents types de biens immobiliers en essayant d'identifier les relations entre les variables. Mais avant cela, il nous faudra pouvoir comparer les biens entre eux, et pour cela nous allons créer une colonne du prix au metre carré."
   ]
  },
  {
   "cell_type": "code",
   "execution_count": 119,
   "id": "933c010b",
   "metadata": {},
   "outputs": [
    {
     "name": "stdout",
     "output_type": "stream",
     "text": [
      "0        11011.193562\n",
      "1         9671.732877\n",
      "2         9966.020548\n",
      "3        11367.582877\n",
      "4        11751.113836\n",
      "             ...     \n",
      "26191    12735.781918\n",
      "26192    13215.536370\n",
      "26193    12016.765753\n",
      "26194    12017.182877\n",
      "26195    11544.667808\n",
      "Name: prix_au_metre_carre, Length: 26196, dtype: float64\n"
     ]
    }
   ],
   "source": [
    "# Calcul de la colonne\n",
    "historique_im['prix_au_metre_carre']=historique_im['valeur_fonciere']/historique_im['surface_reelle']\n",
    "print (historique_im['prix_au_metre_carre'])"
   ]
  },
  {
   "cell_type": "markdown",
   "id": "1b08d5b8",
   "metadata": {},
   "source": [
    "Maintenant, analysons les appartements."
   ]
  },
  {
   "cell_type": "markdown",
   "id": "e52299e8",
   "metadata": {},
   "source": [
    "### 5. Evolution du prix au metre carré des appartements dans Paris"
   ]
  },
  {
   "cell_type": "code",
   "execution_count": 120,
   "id": "706a3f1e",
   "metadata": {},
   "outputs": [
    {
     "data": {
      "text/html": [
       "<div>\n",
       "<style scoped>\n",
       "    .dataframe tbody tr th:only-of-type {\n",
       "        vertical-align: middle;\n",
       "    }\n",
       "\n",
       "    .dataframe tbody tr th {\n",
       "        vertical-align: top;\n",
       "    }\n",
       "\n",
       "    .dataframe thead th {\n",
       "        text-align: right;\n",
       "    }\n",
       "</style>\n",
       "<table border=\"1\" class=\"dataframe\">\n",
       "  <thead>\n",
       "    <tr style=\"text-align: right;\">\n",
       "      <th></th>\n",
       "      <th>date_mutation</th>\n",
       "      <th>valeur_fonciere</th>\n",
       "      <th>code_postal</th>\n",
       "      <th>type_local</th>\n",
       "      <th>surface_reelle</th>\n",
       "      <th>prix_au_metre_carre</th>\n",
       "    </tr>\n",
       "  </thead>\n",
       "  <tbody>\n",
       "    <tr>\n",
       "      <th>0</th>\n",
       "      <td>2017-01-03</td>\n",
       "      <td>5.505597e+05</td>\n",
       "      <td>75003</td>\n",
       "      <td>Appartement</td>\n",
       "      <td>50</td>\n",
       "      <td>11011.193562</td>\n",
       "    </tr>\n",
       "    <tr>\n",
       "      <th>1</th>\n",
       "      <td>2017-01-12</td>\n",
       "      <td>1.576492e+06</td>\n",
       "      <td>75008</td>\n",
       "      <td>Appartement</td>\n",
       "      <td>163</td>\n",
       "      <td>9671.732877</td>\n",
       "    </tr>\n",
       "    <tr>\n",
       "      <th>2</th>\n",
       "      <td>2017-01-10</td>\n",
       "      <td>6.577574e+05</td>\n",
       "      <td>75008</td>\n",
       "      <td>Appartement</td>\n",
       "      <td>66</td>\n",
       "      <td>9966.020548</td>\n",
       "    </tr>\n",
       "    <tr>\n",
       "      <th>3</th>\n",
       "      <td>2017-01-10</td>\n",
       "      <td>2.500868e+05</td>\n",
       "      <td>75003</td>\n",
       "      <td>Appartement</td>\n",
       "      <td>22</td>\n",
       "      <td>11367.582877</td>\n",
       "    </tr>\n",
       "    <tr>\n",
       "      <th>4</th>\n",
       "      <td>2017-01-13</td>\n",
       "      <td>1.762667e+05</td>\n",
       "      <td>75001</td>\n",
       "      <td>Appartement</td>\n",
       "      <td>15</td>\n",
       "      <td>11751.113836</td>\n",
       "    </tr>\n",
       "  </tbody>\n",
       "</table>\n",
       "</div>"
      ],
      "text/plain": [
       "  date_mutation  valeur_fonciere  code_postal   type_local  surface_reelle  \\\n",
       "0    2017-01-03     5.505597e+05        75003  Appartement              50   \n",
       "1    2017-01-12     1.576492e+06        75008  Appartement             163   \n",
       "2    2017-01-10     6.577574e+05        75008  Appartement              66   \n",
       "3    2017-01-10     2.500868e+05        75003  Appartement              22   \n",
       "4    2017-01-13     1.762667e+05        75001  Appartement              15   \n",
       "\n",
       "   prix_au_metre_carre  \n",
       "0         11011.193562  \n",
       "1          9671.732877  \n",
       "2          9966.020548  \n",
       "3         11367.582877  \n",
       "4         11751.113836  "
      ]
     },
     "execution_count": 120,
     "metadata": {},
     "output_type": "execute_result"
    }
   ],
   "source": [
    "#On retire les colonnes qui sont à priori inutiles ET nous allons nous concentrer sur les appartements dans un premier temps\n",
    "historique_im_appartement=historique_im.drop(columns=['adresse_numero','adresse_nom_voie','code_type_local','nom_commune'])[historique_im['type_local']=='Appartement']\n",
    "historique_im_appartement.head()"
   ]
  },
  {
   "cell_type": "code",
   "execution_count": 121,
   "id": "fe90e7c7",
   "metadata": {},
   "outputs": [
    {
     "data": {
      "text/plain": [
       "0        2017\n",
       "1        2017\n",
       "2        2017\n",
       "3        2017\n",
       "4        2017\n",
       "         ... \n",
       "26189    2021\n",
       "26191    2021\n",
       "26193    2021\n",
       "26194    2021\n",
       "26195    2021\n",
       "Name: annee, Length: 24353, dtype: int64"
      ]
     },
     "execution_count": 121,
     "metadata": {},
     "output_type": "execute_result"
    }
   ],
   "source": [
    "historique_im_appartement[\"annee\"] = historique_im_appartement.date_mutation.dt.year\n",
    "historique_im_appartement[\"annee\"]"
   ]
  },
  {
   "cell_type": "code",
   "execution_count": 122,
   "id": "865eca76",
   "metadata": {},
   "outputs": [
    {
     "name": "stdout",
     "output_type": "stream",
     "text": [
      "   annee  prix_au_metre_carre  surface_reelle\n",
      "0   2017          9492.859195       44.627737\n",
      "1   2018         10031.403432       44.271671\n",
      "2   2019         10562.712581       43.361645\n",
      "3   2020         10674.872650       42.900654\n",
      "4   2021         10455.600126       43.479864\n"
     ]
    }
   ],
   "source": [
    "#Préparons un dataframe en regroupant les prix moyens de ventes des appartements par année avec la surface moyenne associée\n",
    "df_appartement = historique_im_appartement[['prix_au_metre_carre','surface_reelle','annee']].groupby('annee',as_index=False).mean()\n",
    "print(df_appartement)"
   ]
  },
  {
   "cell_type": "markdown",
   "id": "cb200fe8",
   "metadata": {},
   "source": [
    "On constate sur la moyenne des prix de vente des appartements à Paris que ? <br>\n",
    "Nous allons créer un graphique pour mieux le visualiser."
   ]
  },
  {
   "cell_type": "code",
   "execution_count": 123,
   "id": "acfcd26a",
   "metadata": {
    "scrolled": true
   },
   "outputs": [
    {
     "data": {
      "image/png": "[encoded data removed]",
      "text/plain": [
       "<Figure size 1000x1000 with 1 Axes>"
      ]
     },
     "metadata": {},
     "output_type": "display_data"
    }
   ],
   "source": [
    "#Création d'un graphique pour visualiser la hausse de la moyenne des prix\n",
    "import matplotlib.ticker as ticker\n",
    "plt.figure(figsize=(10,10))\n",
    "Annee= [str(x) for x in df_appartement.annee]\n",
    "plt.plot(Annee,df_appartement[\"prix_au_metre_carre\"])\n",
    "plt.xlabel('Années de vente des appartements')\n",
    "plt.ylabel('Prix au metre carre des appartements')\n",
    "formatter = ticker.FormatStrFormatter('€%d')\n",
    "plt.gca().yaxis.set_major_formatter(formatter)\n",
    "plt.grid()\n",
    "plt.title('Visualisation de la hausse moyenne des prix des appartements à Paris')\n",
    "plt.show()"
   ]
  },
  {
   "cell_type": "markdown",
   "id": "452fe405",
   "metadata": {},
   "source": [
    "### 6. Différences de prix au metre carré entre les arrondissements"
   ]
  },
  {
   "cell_type": "markdown",
   "id": "d4415dbb",
   "metadata": {},
   "source": [
    "Maintenant nous allons chercher à afficher l'évolution des prix par arrondissement. Vérifions la liste des arrondissements que nous avons dans nos données. Normalement à Paris nous avons 20 codes postaux différents, 1 par arrondissement allant de 75001 à 75020."
   ]
  },
  {
   "cell_type": "code",
   "execution_count": 124,
   "id": "a855fc89",
   "metadata": {},
   "outputs": [
    {
     "data": {
      "text/plain": [
       "array([75003, 75008, 75001, 75006, 75005, 75007, 75010, 75009, 75011,\n",
       "       75012, 75013, 75014, 75015, 75016, 75017, 75018, 75020, 75019,\n",
       "       75004, 75002], dtype=int64)"
      ]
     },
     "execution_count": 124,
     "metadata": {},
     "output_type": "execute_result"
    }
   ],
   "source": [
    "#Liste des codes postaux dans nos données.\n",
    "historique_im_appartement.code_postal.unique()"
   ]
  },
  {
   "cell_type": "code",
   "execution_count": 125,
   "id": "27c2e1b4",
   "metadata": {},
   "outputs": [
    {
     "name": "stdout",
     "output_type": "stream",
     "text": [
      "    code_postal  annee  prix_au_metre_carre\n",
      "0         75001   2017         11762.706289\n",
      "1         75001   2018         12621.226146\n",
      "2         75001   2019         13269.256149\n",
      "3         75001   2020         13405.991820\n",
      "4         75001   2021         13379.498578\n",
      "..          ...    ...                  ...\n",
      "95        75020   2017          7886.023336\n",
      "96        75020   2018          8485.162808\n",
      "97        75020   2019          9093.992492\n",
      "98        75020   2020          9329.305302\n",
      "99        75020   2021          9114.398249\n",
      "\n",
      "[100 rows x 3 columns]\n"
     ]
    },
    {
     "name": "stderr",
     "output_type": "stream",
     "text": [
      "C:\\Users\\laghz\\AppData\\Local\\Temp\\ipykernel_14140\\3284464740.py:2: FutureWarning: The default value of numeric_only in DataFrameGroupBy.mean is deprecated. In a future version, numeric_only will default to False. Either specify numeric_only or select only columns which should be valid for the function.\n",
      "  df_prix = historique_im_appartement[['date_mutation','prix_au_metre_carre','code_postal','annee']].groupby(['code_postal','annee'],as_index=False).mean()\n"
     ]
    }
   ],
   "source": [
    "#Créeons un dataframe pour une deuxième visualisation avec l'evolution des prix par arrondissement\n",
    "df_prix = historique_im_appartement[['date_mutation','prix_au_metre_carre','code_postal','annee']].groupby(['code_postal','annee'],as_index=False).mean()\n",
    "print(df_prix)"
   ]
  },
  {
   "cell_type": "code",
   "execution_count": 126,
   "id": "d64bc743",
   "metadata": {},
   "outputs": [
    {
     "data": {
      "text/html": [
       "<div>\n",
       "<style scoped>\n",
       "    .dataframe tbody tr th:only-of-type {\n",
       "        vertical-align: middle;\n",
       "    }\n",
       "\n",
       "    .dataframe tbody tr th {\n",
       "        vertical-align: top;\n",
       "    }\n",
       "\n",
       "    .dataframe thead th {\n",
       "        text-align: right;\n",
       "    }\n",
       "</style>\n",
       "<table border=\"1\" class=\"dataframe\">\n",
       "  <thead>\n",
       "    <tr style=\"text-align: right;\">\n",
       "      <th></th>\n",
       "      <th>code_postal</th>\n",
       "      <th>annee</th>\n",
       "      <th>prix_au_metre_carre</th>\n",
       "    </tr>\n",
       "  </thead>\n",
       "  <tbody>\n",
       "    <tr>\n",
       "      <th>0</th>\n",
       "      <td>75001</td>\n",
       "      <td>2017</td>\n",
       "      <td>11762.706289</td>\n",
       "    </tr>\n",
       "    <tr>\n",
       "      <th>1</th>\n",
       "      <td>75001</td>\n",
       "      <td>2018</td>\n",
       "      <td>12621.226146</td>\n",
       "    </tr>\n",
       "    <tr>\n",
       "      <th>2</th>\n",
       "      <td>75001</td>\n",
       "      <td>2019</td>\n",
       "      <td>13269.256149</td>\n",
       "    </tr>\n",
       "    <tr>\n",
       "      <th>3</th>\n",
       "      <td>75001</td>\n",
       "      <td>2020</td>\n",
       "      <td>13405.991820</td>\n",
       "    </tr>\n",
       "    <tr>\n",
       "      <th>4</th>\n",
       "      <td>75001</td>\n",
       "      <td>2021</td>\n",
       "      <td>13379.498578</td>\n",
       "    </tr>\n",
       "  </tbody>\n",
       "</table>\n",
       "</div>"
      ],
      "text/plain": [
       "   code_postal  annee  prix_au_metre_carre\n",
       "0        75001   2017         11762.706289\n",
       "1        75001   2018         12621.226146\n",
       "2        75001   2019         13269.256149\n",
       "3        75001   2020         13405.991820\n",
       "4        75001   2021         13379.498578"
      ]
     },
     "execution_count": 126,
     "metadata": {},
     "output_type": "execute_result"
    }
   ],
   "source": [
    "pre_arrondi=df_prix[df_prix.code_postal==75001]\n",
    "pre_arrondi"
   ]
  },
  {
   "cell_type": "code",
   "execution_count": 127,
   "id": "4eeb6acb",
   "metadata": {
    "scrolled": true
   },
   "outputs": [
    {
     "data": {
      "image/png": "[encoded data removed]",
      "text/plain": [
       "<Figure size 1500x1500 with 1 Axes>"
      ]
     },
     "metadata": {},
     "output_type": "display_data"
    }
   ],
   "source": [
    "#Création d'un graphique pour visualiser la hausse de la moyenne des prix au metre carré dans le premier arrondissement\n",
    "plt.figure(figsize=(15,15))\n",
    "pre_arrondi=df_prix[df_prix.code_postal==75001]\n",
    "Annee = [str(x) for x in pre_arrondi.annee]\n",
    "plt.plot(Annee,pre_arrondi[\"prix_au_metre_carre\"],color='red')\n",
    "plt.xlabel('Années de vente des appartements dans larrondissement 75001')\n",
    "plt.ylabel('Montant moyen de vente des appartements')\n",
    "formatter = ticker.FormatStrFormatter('€%d')\n",
    "plt.gca().yaxis.set_major_formatter(formatter)\n",
    "plt.grid()\n",
    "plt.title('Evolution du prix au m² dans le premier arrondissement')\n",
    "plt.show()"
   ]
  },
  {
   "cell_type": "markdown",
   "id": "876fd6f0",
   "metadata": {},
   "source": [
    "Nous allons ajouter à cette visualisation tous les autres arrondissement avec une couleur différente."
   ]
  },
  {
   "cell_type": "code",
   "execution_count": 128,
   "id": "65535120",
   "metadata": {},
   "outputs": [
    {
     "data": {
      "image/png": "[encoded data removed]",
      "text/plain": [
       "<Figure size 1500x1500 with 1 Axes>"
      ]
     },
     "metadata": {},
     "output_type": "display_data"
    }
   ],
   "source": [
    "#On affiche l'évolution du prix au m² par arrondissement dans Paris\n",
    "plt.figure(figsize=(15,15))\n",
    "pre_arrondi_1=df_prix[df_prix.code_postal==75001]\n",
    "Annee_1 = [str(x) for x in pre_arrondi_1.annee]\n",
    "plt.plot(Annee_1,pre_arrondi_1[\"prix_au_metre_carre\"],label='75001',color='red')\n",
    "pre_arrondi_2=df_prix[df_prix.code_postal==75002]\n",
    "Annee_2 = [str(x) for x in pre_arrondi_2.annee]\n",
    "plt.plot(Annee_2,pre_arrondi_2[\"prix_au_metre_carre\"],label='75002',color='blue')\n",
    "pre_arrondi_3=df_prix[df_prix.code_postal==75003]\n",
    "Annee_3= [str(x) for x in pre_arrondi_3.annee]\n",
    "plt.plot(Annee_3,pre_arrondi_3[\"prix_au_metre_carre\"],label='75003',color='coral')\n",
    "pre_arrondi_4=df_prix[df_prix.code_postal==75004]\n",
    "Annee_4= [str(x) for x in pre_arrondi_4.annee]\n",
    "plt.plot(Annee_4,pre_arrondi_4[\"prix_au_metre_carre\"],label='75004',color='gold')\n",
    "pre_arrondi_5=df_prix[df_prix.code_postal==75005]\n",
    "Annee_5= [str(x) for x in pre_arrondi_5.annee]\n",
    "plt.plot(Annee_5,pre_arrondi_5[\"prix_au_metre_carre\"],label='75005',color='teal')\n",
    "pre_arrondi_6=df_prix[df_prix.code_postal==75006]\n",
    "Annee_6= [str(x) for x in pre_arrondi_6.annee]\n",
    "plt.plot(Annee_6,pre_arrondi_6[\"prix_au_metre_carre\"],label='75006',color='magenta')\n",
    "pre_arrondi_7=df_prix[df_prix.code_postal==75007]\n",
    "Annee_7= [str(x) for x in pre_arrondi_7.annee]\n",
    "plt.plot(Annee_7,pre_arrondi_7[\"prix_au_metre_carre\"],label='75007',color='purple')\n",
    "pre_arrondi_8=df_prix[df_prix.code_postal==75008]\n",
    "Annee_8 = [str(x) for x in pre_arrondi_8.annee]\n",
    "plt.plot(Annee_8,pre_arrondi_8[\"prix_au_metre_carre\"],label='75008',color='violet')\n",
    "pre_arrondi_9=df_prix[df_prix.code_postal==75009]\n",
    "Annee_9= [str(x) for x in pre_arrondi_9.annee]\n",
    "plt.plot(Annee_9,pre_arrondi_9[\"prix_au_metre_carre\"],label='75009',color='plum')\n",
    "pre_arrondi_10=df_prix[df_prix.code_postal==75010]\n",
    "Annee_10= [str(x) for x in pre_arrondi_10.annee]\n",
    "plt.plot(Annee_10,pre_arrondi_10[\"prix_au_metre_carre\"],label='75010',color='olive')\n",
    "pre_arrondi_11=df_prix[df_prix.code_postal==75011]\n",
    "Annee_11= [str(x) for x in pre_arrondi_11.annee]\n",
    "plt.plot(Annee_11,pre_arrondi_11[\"prix_au_metre_carre\"],label='75011',color='lime')\n",
    "pre_arrondi_12=df_prix[df_prix.code_postal==75012]\n",
    "Annee_12= [str(x) for x in pre_arrondi_12.annee]\n",
    "plt.plot(Annee_12,pre_arrondi_12[\"prix_au_metre_carre\"],label='75012',color='navy')\n",
    "pre_arrondi_13=df_prix[df_prix.code_postal==75013]\n",
    "Annee_13= [str(x) for x in pre_arrondi_13.annee]\n",
    "plt.plot(Annee_13,pre_arrondi_13[\"prix_au_metre_carre\"],label='75013',color='peru')\n",
    "pre_arrondi_14=df_prix[df_prix.code_postal==75014]\n",
    "Annee_14= [str(x) for x in pre_arrondi_14.annee]\n",
    "plt.plot(Annee_14,pre_arrondi_14[\"prix_au_metre_carre\"],label='75014',color='pink')\n",
    "pre_arrondi_15=df_prix[df_prix.code_postal==75015]\n",
    "Annee_15= [str(x) for x in pre_arrondi_15.annee]\n",
    "plt.plot(Annee_15,pre_arrondi_15[\"prix_au_metre_carre\"],label='75015',color='peru')\n",
    "pre_arrondi_16=df_prix[df_prix.code_postal==7501]\n",
    "Annee_16= [str(x) for x in pre_arrondi_16.annee]\n",
    "plt.plot(Annee_16,pre_arrondi_16[\"prix_au_metre_carre\"],label='75016',color='yellow')\n",
    "pre_arrondi_17=df_prix[df_prix.code_postal==75017]\n",
    "Annee_17= [str(x) for x in pre_arrondi_17.annee]\n",
    "plt.plot(Annee_17,pre_arrondi_17[\"prix_au_metre_carre\"],label='75017',color='lavender')\n",
    "pre_arrondi_18=df_prix[df_prix.code_postal==75018]\n",
    "Annee_18= [str(x) for x in pre_arrondi_18.annee]\n",
    "plt.plot(Annee_18,pre_arrondi_18[\"prix_au_metre_carre\"],label='75018',color='orange')\n",
    "pre_arrondi_19=df_prix[df_prix.code_postal==75019]\n",
    "Annee_19= [str(x) for x in pre_arrondi_19.annee]\n",
    "plt.plot(Annee_19,pre_arrondi_19[\"prix_au_metre_carre\"],label='75019',color='cyan')\n",
    "pre_arrondi_20=df_prix[df_prix.code_postal==75020]\n",
    "Annee_20= [str(x) for x in pre_arrondi_20.annee]\n",
    "plt.plot(Annee_20,pre_arrondi_20[\"prix_au_metre_carre\"],label='75020',color='fuchsia')\n",
    "plt.xlabel('Années de vente des appartements')\n",
    "plt.ylabel('Montant moyen de vente des appartements')\n",
    "formatter = ticker.FormatStrFormatter('€%d')\n",
    "plt.gca().yaxis.set_major_formatter(formatter)\n",
    "plt.grid()\n",
    "plt.title('Evolution du prix au m² dans les 20 arrondissements')\n",
    "plt.legend()\n",
    "plt.show()"
   ]
  },
  {
   "cell_type": "markdown",
   "id": "4a87ed50",
   "metadata": {},
   "source": [
    "On observe que globalement que ?"
   ]
  },
  {
   "cell_type": "markdown",
   "id": "20631df9",
   "metadata": {},
   "source": [
    "### 7. Prix au metre carré par transaction dans un arrondissement"
   ]
  },
  {
   "cell_type": "code",
   "execution_count": 129,
   "id": "066de112",
   "metadata": {},
   "outputs": [
    {
     "data": {
      "text/plain": [
       "709"
      ]
     },
     "execution_count": 129,
     "metadata": {},
     "output_type": "execute_result"
    }
   ],
   "source": [
    "#Vérifions le nombre de transaction dans le 6ème car le prix semble élevé\n",
    "historique_im_appartement[historique_im_appartement['code_postal']==75006].shape[0]"
   ]
  },
  {
   "cell_type": "code",
   "execution_count": 130,
   "id": "417edb7b",
   "metadata": {},
   "outputs": [
    {
     "name": "stdout",
     "output_type": "stream",
     "text": [
      "      date_mutation  valeur_fonciere  code_postal   type_local  \\\n",
      "478      2017-01-10     9.601314e+05        75006  Appartement   \n",
      "482      2017-01-13     8.204362e+05        75006  Appartement   \n",
      "484      2017-01-13     1.796112e+06        75006  Appartement   \n",
      "488      2017-01-17     2.488198e+05        75006  Appartement   \n",
      "491      2017-01-19     4.828724e+05        75006  Appartement   \n",
      "...             ...              ...          ...          ...   \n",
      "24915    2021-12-22     1.360988e+06        75006  Appartement   \n",
      "24953    2021-12-16     9.705679e+05        75006  Appartement   \n",
      "24956    2021-12-27     2.525194e+05        75006  Appartement   \n",
      "25013    2021-12-24     6.051571e+05        75006  Appartement   \n",
      "25020    2021-12-29     3.850466e+05        75006  Appartement   \n",
      "\n",
      "       surface_reelle  prix_au_metre_carre  annee  \n",
      "478                78         12309.376712   2017  \n",
      "482                68         12065.237671   2017  \n",
      "484               143         12560.221781   2017  \n",
      "488                20         12440.991370   2017  \n",
      "491                40         12071.808904   2017  \n",
      "...               ...                  ...    ...  \n",
      "24915              97         14030.803836   2021  \n",
      "24953              72         13480.109589   2021  \n",
      "24956              18         14028.857260   2021  \n",
      "25013              44         13753.571507   2021  \n",
      "25020              28         13751.663288   2021  \n",
      "\n",
      "[709 rows x 7 columns]\n"
     ]
    }
   ],
   "source": [
    "six_arrondi=historique_im_appartement[historique_im_appartement.code_postal==75006]\n",
    "print(six_arrondi)"
   ]
  },
  {
   "cell_type": "markdown",
   "id": "16586dcf",
   "metadata": {},
   "source": [
    "On constate que ?\n",
    "\n",
    "Affichons l'historique des transactions pour visualiser la dispersion des données :"
   ]
  },
  {
   "cell_type": "code",
   "execution_count": 131,
   "id": "5da39cb8",
   "metadata": {},
   "outputs": [
    {
     "data": {
      "image/png": "[encoded data removed]",
      "text/plain": [
       "<Figure size 1500x1500 with 1 Axes>"
      ]
     },
     "metadata": {},
     "output_type": "display_data"
    }
   ],
   "source": [
    "cp=75006\n",
    "plt.figure(figsize=(15,15))\n",
    "#Insérer ci-dessous le scatter plot\n",
    "annee = [str(x) for x in six_arrondi.date_mutation]\n",
    "plt.scatter(annee,six_arrondi[\"prix_au_metre_carre\"])\n",
    "plt.xlabel('Date de vente des appartements dans larrondissement 75006')\n",
    "plt.ylabel('Prix du metre carre à la vente des appartements')\n",
    "formatter = ticker.FormatStrFormatter('€%d')\n",
    "plt.gca().yaxis.set_major_formatter(formatter)\n",
    "plt.grid(which='both')\n",
    "plt.title('Historique des transactions dans le sixieme arrondissement')\n",
    "plt.show()"
   ]
  },
  {
   "cell_type": "markdown",
   "id": "3a4245f6",
   "metadata": {},
   "source": [
    "On observe que ?\n",
    "\n",
    "Pour nous rassurer sur la relation entre les données nous allons utiliser un test statistique de corrélation."
   ]
  },
  {
   "cell_type": "markdown",
   "id": "61988c31",
   "metadata": {},
   "source": [
    "### 8. Vérification de la relation entre le prix au m² et la date dans le 6ème arrondissement par le calcul du coefficient de corrélation de Pearson "
   ]
  },
  {
   "cell_type": "markdown",
   "id": "9c715d9c",
   "metadata": {},
   "source": [
    "Pour cette distribution nous allons calculer le coefficient de corrélation de Pearson. La relation entre le prix au metre carré et la date n'est pas forcément linéaire mais elle s'en rapproche suffisamment pour que cette analyse soit pertinente (voir l'évolution du prix au metre carré globale montrée plus haut, on a presque une droite sauf entre 2020 et 2021). Ce qui nous interesse c'est de prouver que le temps a une influence sur le prix."
   ]
  },
  {
   "cell_type": "code",
   "execution_count": 132,
   "id": "b184dd2c",
   "metadata": {},
   "outputs": [],
   "source": [
    "#On calcule la corrélation de Spearman\n",
    "from scipy.stats import pearsonr\n"
   ]
  },
  {
   "cell_type": "code",
   "execution_count": 133,
   "id": "7ce514f0",
   "metadata": {},
   "outputs": [],
   "source": [
    "date_reference = pd.to_datetime('2017-01-01')"
   ]
  },
  {
   "cell_type": "code",
   "execution_count": 134,
   "id": "e7c71936",
   "metadata": {},
   "outputs": [
    {
     "name": "stderr",
     "output_type": "stream",
     "text": [
      "C:\\Users\\laghz\\AppData\\Local\\Temp\\ipykernel_14140\\1817493008.py:1: SettingWithCopyWarning: \n",
      "A value is trying to be set on a copy of a slice from a DataFrame.\n",
      "Try using .loc[row_indexer,col_indexer] = value instead\n",
      "\n",
      "See the caveats in the documentation: https://pandas.pydata.org/pandas-docs/stable/user_guide/indexing.html#returning-a-view-versus-a-copy\n",
      "  six_arrondi['date_mutation_s'] = (six_arrondi['date_mutation'] - date_reference).dt.total_seconds()\n"
     ]
    }
   ],
   "source": [
    "six_arrondi['date_mutation_s'] = (six_arrondi['date_mutation'] - date_reference).dt.total_seconds()"
   ]
  },
  {
   "cell_type": "code",
   "execution_count": 135,
   "id": "f863855f",
   "metadata": {},
   "outputs": [
    {
     "name": "stdout",
     "output_type": "stream",
     "text": [
      "PearsonRResult(statistic=0.9038446031491479, pvalue=7.108378962577139e-263)\n"
     ]
    }
   ],
   "source": [
    "corrélation=pearsonr(six_arrondi['prix_au_metre_carre'],six_arrondi['date_mutation_s'])\n",
    "print(corrélation)"
   ]
  },
  {
   "cell_type": "markdown",
   "id": "82a5fbab",
   "metadata": {},
   "source": [
    "Le coefficient de corrélation est de ? avec une pvalue de ? donc nous pouvons confirmer la corrélation."
   ]
  },
  {
   "cell_type": "markdown",
   "id": "8d3978f5",
   "metadata": {},
   "source": [
    "### 9. Vérification de la relation entre la valeur fonciere et la surface"
   ]
  },
  {
   "cell_type": "code",
   "execution_count": 136,
   "id": "c8c11d53",
   "metadata": {},
   "outputs": [
    {
     "name": "stdout",
     "output_type": "stream",
     "text": [
      "PearsonRResult(statistic=0.9977572898250296, pvalue=0.0)\n"
     ]
    }
   ],
   "source": [
    "corr=pearsonr(six_arrondi['surface_reelle'],six_arrondi['valeur_fonciere'])\n",
    "print(corr)"
   ]
  },
  {
   "cell_type": "markdown",
   "id": "d428ff7e",
   "metadata": {},
   "source": [
    "Le coefficient de corrélation est de ? avec une pvalue de ?. La relation est donc confirmée."
   ]
  },
  {
   "cell_type": "markdown",
   "id": "35a150eb",
   "metadata": {},
   "source": [
    "Regardons maintenant si le type de bien à une influence sur le prix au metre carré également."
   ]
  },
  {
   "cell_type": "markdown",
   "id": "ee061e7d",
   "metadata": {},
   "source": [
    "### 10. Analyse des locaux industriels, commerciaux et assimilés "
   ]
  },
  {
   "cell_type": "code",
   "execution_count": 137,
   "id": "cfd7bc23",
   "metadata": {},
   "outputs": [
    {
     "data": {
      "text/html": [
       "<div>\n",
       "<style scoped>\n",
       "    .dataframe tbody tr th:only-of-type {\n",
       "        vertical-align: middle;\n",
       "    }\n",
       "\n",
       "    .dataframe tbody tr th {\n",
       "        vertical-align: top;\n",
       "    }\n",
       "\n",
       "    .dataframe thead th {\n",
       "        text-align: right;\n",
       "    }\n",
       "</style>\n",
       "<table border=\"1\" class=\"dataframe\">\n",
       "  <thead>\n",
       "    <tr style=\"text-align: right;\">\n",
       "      <th></th>\n",
       "      <th>date_mutation</th>\n",
       "      <th>valeur_fonciere</th>\n",
       "      <th>code_postal</th>\n",
       "      <th>nom_commune</th>\n",
       "      <th>type_local</th>\n",
       "      <th>surface_reelle</th>\n",
       "      <th>prix_au_metre_carre</th>\n",
       "    </tr>\n",
       "  </thead>\n",
       "  <tbody>\n",
       "    <tr>\n",
       "      <th>18</th>\n",
       "      <td>2017-02-01</td>\n",
       "      <td>3.113277e+06</td>\n",
       "      <td>75003</td>\n",
       "      <td>Paris 3e Arrondissement</td>\n",
       "      <td>Local industriel. commercial ou assimilé</td>\n",
       "      <td>250</td>\n",
       "      <td>12453.109192</td>\n",
       "    </tr>\n",
       "    <tr>\n",
       "      <th>29</th>\n",
       "      <td>2017-02-17</td>\n",
       "      <td>1.164375e+06</td>\n",
       "      <td>75003</td>\n",
       "      <td>Paris 3e Arrondissement</td>\n",
       "      <td>Local industriel. commercial ou assimilé</td>\n",
       "      <td>95</td>\n",
       "      <td>12256.581685</td>\n",
       "    </tr>\n",
       "    <tr>\n",
       "      <th>34</th>\n",
       "      <td>2017-02-20</td>\n",
       "      <td>3.802522e+05</td>\n",
       "      <td>75003</td>\n",
       "      <td>Paris 3e Arrondissement</td>\n",
       "      <td>Local industriel. commercial ou assimilé</td>\n",
       "      <td>31</td>\n",
       "      <td>12266.199603</td>\n",
       "    </tr>\n",
       "    <tr>\n",
       "      <th>91</th>\n",
       "      <td>2017-03-09</td>\n",
       "      <td>3.623842e+05</td>\n",
       "      <td>75001</td>\n",
       "      <td>Paris 1er Arrondissement</td>\n",
       "      <td>Local industriel. commercial ou assimilé</td>\n",
       "      <td>29</td>\n",
       "      <td>12496.006027</td>\n",
       "    </tr>\n",
       "    <tr>\n",
       "      <th>109</th>\n",
       "      <td>2017-03-29</td>\n",
       "      <td>3.159072e+05</td>\n",
       "      <td>75003</td>\n",
       "      <td>Paris 3e Arrondissement</td>\n",
       "      <td>Local industriel. commercial ou assimilé</td>\n",
       "      <td>25</td>\n",
       "      <td>12636.289027</td>\n",
       "    </tr>\n",
       "  </tbody>\n",
       "</table>\n",
       "</div>"
      ],
      "text/plain": [
       "    date_mutation  valeur_fonciere  code_postal               nom_commune  \\\n",
       "18     2017-02-01     3.113277e+06        75003   Paris 3e Arrondissement   \n",
       "29     2017-02-17     1.164375e+06        75003   Paris 3e Arrondissement   \n",
       "34     2017-02-20     3.802522e+05        75003   Paris 3e Arrondissement   \n",
       "91     2017-03-09     3.623842e+05        75001  Paris 1er Arrondissement   \n",
       "109    2017-03-29     3.159072e+05        75003   Paris 3e Arrondissement   \n",
       "\n",
       "                                   type_local  surface_reelle  \\\n",
       "18   Local industriel. commercial ou assimilé             250   \n",
       "29   Local industriel. commercial ou assimilé              95   \n",
       "34   Local industriel. commercial ou assimilé              31   \n",
       "91   Local industriel. commercial ou assimilé              29   \n",
       "109  Local industriel. commercial ou assimilé              25   \n",
       "\n",
       "     prix_au_metre_carre  \n",
       "18          12453.109192  \n",
       "29          12256.581685  \n",
       "34          12266.199603  \n",
       "91          12496.006027  \n",
       "109         12636.289027  "
      ]
     },
     "execution_count": 137,
     "metadata": {},
     "output_type": "execute_result"
    }
   ],
   "source": [
    "#On crée un dataset qui ne contient que les locaux commerciaux\n",
    "historique_im_locaux=historique_im.drop(columns=['adresse_numero','adresse_nom_voie','code_type_local'])[historique_im['type_local']=='Local industriel. commercial ou assimilé']\n",
    "historique_im_locaux.head()"
   ]
  },
  {
   "cell_type": "code",
   "execution_count": 138,
   "id": "082c7b16",
   "metadata": {},
   "outputs": [
    {
     "data": {
      "text/plain": [
       "18       2017\n",
       "29       2017\n",
       "34       2017\n",
       "91       2017\n",
       "109      2017\n",
       "         ... \n",
       "26149    2021\n",
       "26164    2021\n",
       "26166    2021\n",
       "26190    2021\n",
       "26192    2021\n",
       "Name: annee, Length: 1843, dtype: int64"
      ]
     },
     "execution_count": 138,
     "metadata": {},
     "output_type": "execute_result"
    }
   ],
   "source": [
    "historique_im_locaux[\"annee\"] = historique_im_locaux.date_mutation.dt.year\n",
    "historique_im_locaux[\"annee\"]"
   ]
  },
  {
   "cell_type": "code",
   "execution_count": 139,
   "id": "c31ec545",
   "metadata": {},
   "outputs": [
    {
     "name": "stdout",
     "output_type": "stream",
     "text": [
      "   annee  prix_au_metre_carre\n",
      "0   2017         10949.909217\n",
      "1   2018         11569.499180\n",
      "2   2019         11960.132050\n",
      "3   2020         11966.470204\n",
      "4   2021         12006.488691\n"
     ]
    }
   ],
   "source": [
    "#Préparons un dataframe en regroupant les prix au metre carré moyens des ventes par année\n",
    "prix_moyen_locaux_année = historique_im_locaux[['prix_au_metre_carre','annee']].groupby('annee',as_index=False).mean()\n",
    "print(prix_moyen_locaux_année)"
   ]
  },
  {
   "cell_type": "code",
   "execution_count": 140,
   "id": "e5a2bf27",
   "metadata": {},
   "outputs": [
    {
     "data": {
      "image/png": "[encoded data removed]",
      "text/plain": [
       "<Figure size 1000x1000 with 1 Axes>"
      ]
     },
     "metadata": {},
     "output_type": "display_data"
    }
   ],
   "source": [
    "#Création d'un graphique pour visualiser la hausse de la moyenne des prix\n",
    "plt.figure(figsize=(10,10))\n",
    "Annee = [str(x) for x in df_appartement.annee]\n",
    "AnnEe = [str(x) for x in prix_moyen_locaux_année.annee]\n",
    "plt.plot(AnnEe,prix_moyen_locaux_année[\"prix_au_metre_carre\"],label='locaux commerciaux',color='green')\n",
    "plt.plot(Annee,df_appartement[\"prix_au_metre_carre\"],label='appartements',color='orange')\n",
    "plt.xlabel('Années de vente')\n",
    "plt.ylabel('Montant du prix au metre carré')\n",
    "plt.legend()\n",
    "formatter = ticker.FormatStrFormatter('€%d')\n",
    "plt.gca().yaxis.set_major_formatter(formatter)\n",
    "plt.grid()\n",
    "plt.title('Evolution des prix au metre carré ')\n",
    "plt.show()"
   ]
  },
  {
   "cell_type": "markdown",
   "id": "1b1626cb",
   "metadata": {},
   "source": [
    "Le prix au metre carré des locaux commerciaux est ?"
   ]
  },
  {
   "cell_type": "markdown",
   "id": "f766d471",
   "metadata": {},
   "source": [
    "Après ces analyses, nous pouvons conclure que les dimensions à utiliser pour prédire le prix au m² sont : \n",
    "- la surface du bien immobilier,\n",
    "- la date considérée, \n",
    "- la localisation (code_postal), \n",
    "- le type de bien."
   ]
  },
  {
   "cell_type": "markdown",
   "id": "0a546f7d",
   "metadata": {},
   "source": [
    "# Milestone 2 - Entraînement de l'algorithme"
   ]
  },
  {
   "cell_type": "markdown",
   "id": "8f756b84",
   "metadata": {},
   "source": [
    "Dans cette section nous allons maintenant entrâiner un algorithme à prédire la valeur fonciere d'un bien immobilier. Pour cela nous allons utiliser l'algorithme de régression linéaire."
   ]
  },
  {
   "cell_type": "markdown",
   "id": "917f244b",
   "metadata": {},
   "source": [
    "On commence par préparer nos données en transformant les colonnes catégoriques du code postal et du type de local grâce au one hot encoder (sklearn) / get_dummies (pandas)"
   ]
  },
  {
   "cell_type": "code",
   "execution_count": 141,
   "id": "823b0401",
   "metadata": {},
   "outputs": [],
   "source": [
    "from sklearn.datasets import fetch_openml\n"
   ]
  },
  {
   "cell_type": "code",
   "execution_count": 142,
   "id": "f6b99c22",
   "metadata": {},
   "outputs": [
    {
     "data": {
      "text/html": [
       "<div>\n",
       "<style scoped>\n",
       "    .dataframe tbody tr th:only-of-type {\n",
       "        vertical-align: middle;\n",
       "    }\n",
       "\n",
       "    .dataframe tbody tr th {\n",
       "        vertical-align: top;\n",
       "    }\n",
       "\n",
       "    .dataframe thead th {\n",
       "        text-align: right;\n",
       "    }\n",
       "</style>\n",
       "<table border=\"1\" class=\"dataframe\">\n",
       "  <thead>\n",
       "    <tr style=\"text-align: right;\">\n",
       "      <th></th>\n",
       "      <th>date_mutation</th>\n",
       "      <th>valeur_fonciere</th>\n",
       "      <th>adresse_numero</th>\n",
       "      <th>adresse_nom_voie</th>\n",
       "      <th>code_postal</th>\n",
       "      <th>nom_commune</th>\n",
       "      <th>code_type_local</th>\n",
       "      <th>type_local</th>\n",
       "      <th>surface_reelle</th>\n",
       "      <th>prix_au_metre_carre</th>\n",
       "    </tr>\n",
       "  </thead>\n",
       "  <tbody>\n",
       "    <tr>\n",
       "      <th>0</th>\n",
       "      <td>2017-01-03</td>\n",
       "      <td>5.505597e+05</td>\n",
       "      <td>8</td>\n",
       "      <td>RUE DES COUTURES SAINT GERVAIS</td>\n",
       "      <td>75003</td>\n",
       "      <td>Paris 3e Arrondissement</td>\n",
       "      <td>2</td>\n",
       "      <td>Appartement</td>\n",
       "      <td>50</td>\n",
       "      <td>11011.193562</td>\n",
       "    </tr>\n",
       "    <tr>\n",
       "      <th>1</th>\n",
       "      <td>2017-01-12</td>\n",
       "      <td>1.576492e+06</td>\n",
       "      <td>32</td>\n",
       "      <td>AV MARCEAU</td>\n",
       "      <td>75008</td>\n",
       "      <td>Paris 8e Arrondissement</td>\n",
       "      <td>2</td>\n",
       "      <td>Appartement</td>\n",
       "      <td>163</td>\n",
       "      <td>9671.732877</td>\n",
       "    </tr>\n",
       "    <tr>\n",
       "      <th>2</th>\n",
       "      <td>2017-01-10</td>\n",
       "      <td>6.577574e+05</td>\n",
       "      <td>52</td>\n",
       "      <td>RUE DU FAUBOURG SAINT HONORE</td>\n",
       "      <td>75008</td>\n",
       "      <td>Paris 8e Arrondissement</td>\n",
       "      <td>2</td>\n",
       "      <td>Appartement</td>\n",
       "      <td>66</td>\n",
       "      <td>9966.020548</td>\n",
       "    </tr>\n",
       "    <tr>\n",
       "      <th>3</th>\n",
       "      <td>2017-01-10</td>\n",
       "      <td>2.500868e+05</td>\n",
       "      <td>64</td>\n",
       "      <td>RUE DU VERTBOIS</td>\n",
       "      <td>75003</td>\n",
       "      <td>Paris 3e Arrondissement</td>\n",
       "      <td>2</td>\n",
       "      <td>Appartement</td>\n",
       "      <td>22</td>\n",
       "      <td>11367.582877</td>\n",
       "    </tr>\n",
       "    <tr>\n",
       "      <th>4</th>\n",
       "      <td>2017-01-13</td>\n",
       "      <td>1.762667e+05</td>\n",
       "      <td>25</td>\n",
       "      <td>RUE DES LAVANDIERES STE OPPORT</td>\n",
       "      <td>75001</td>\n",
       "      <td>Paris 1er Arrondissement</td>\n",
       "      <td>2</td>\n",
       "      <td>Appartement</td>\n",
       "      <td>15</td>\n",
       "      <td>11751.113836</td>\n",
       "    </tr>\n",
       "    <tr>\n",
       "      <th>...</th>\n",
       "      <td>...</td>\n",
       "      <td>...</td>\n",
       "      <td>...</td>\n",
       "      <td>...</td>\n",
       "      <td>...</td>\n",
       "      <td>...</td>\n",
       "      <td>...</td>\n",
       "      <td>...</td>\n",
       "      <td>...</td>\n",
       "      <td>...</td>\n",
       "    </tr>\n",
       "    <tr>\n",
       "      <th>26191</th>\n",
       "      <td>2021-02-25</td>\n",
       "      <td>4.712239e+05</td>\n",
       "      <td>16</td>\n",
       "      <td>RUE DU BOURG TIBOURG</td>\n",
       "      <td>75004</td>\n",
       "      <td>Paris 4e Arrondissement</td>\n",
       "      <td>2</td>\n",
       "      <td>Appartement</td>\n",
       "      <td>37</td>\n",
       "      <td>12735.781918</td>\n",
       "    </tr>\n",
       "    <tr>\n",
       "      <th>26192</th>\n",
       "      <td>2021-02-17</td>\n",
       "      <td>1.982330e+06</td>\n",
       "      <td>23</td>\n",
       "      <td>RUE DU SENTIER</td>\n",
       "      <td>75002</td>\n",
       "      <td>Paris 2e Arrondissement</td>\n",
       "      <td>4</td>\n",
       "      <td>Local industriel. commercial ou assimilé</td>\n",
       "      <td>150</td>\n",
       "      <td>13215.536370</td>\n",
       "    </tr>\n",
       "    <tr>\n",
       "      <th>26193</th>\n",
       "      <td>2021-03-08</td>\n",
       "      <td>3.124359e+05</td>\n",
       "      <td>5</td>\n",
       "      <td>RUE SAINT-SAUVEUR</td>\n",
       "      <td>75002</td>\n",
       "      <td>Paris 2e Arrondissement</td>\n",
       "      <td>2</td>\n",
       "      <td>Appartement</td>\n",
       "      <td>26</td>\n",
       "      <td>12016.765753</td>\n",
       "    </tr>\n",
       "    <tr>\n",
       "      <th>26194</th>\n",
       "      <td>2021-03-11</td>\n",
       "      <td>1.562234e+05</td>\n",
       "      <td>15</td>\n",
       "      <td>RUE BLONDEL</td>\n",
       "      <td>75002</td>\n",
       "      <td>Paris 2e Arrondissement</td>\n",
       "      <td>2</td>\n",
       "      <td>Appartement</td>\n",
       "      <td>13</td>\n",
       "      <td>12017.182877</td>\n",
       "    </tr>\n",
       "    <tr>\n",
       "      <th>26195</th>\n",
       "      <td>2021-03-19</td>\n",
       "      <td>3.694294e+05</td>\n",
       "      <td>190</td>\n",
       "      <td>RUE SAINT-DENIS</td>\n",
       "      <td>75002</td>\n",
       "      <td>Paris 2e Arrondissement</td>\n",
       "      <td>2</td>\n",
       "      <td>Appartement</td>\n",
       "      <td>32</td>\n",
       "      <td>11544.667808</td>\n",
       "    </tr>\n",
       "  </tbody>\n",
       "</table>\n",
       "<p>26196 rows × 10 columns</p>\n",
       "</div>"
      ],
      "text/plain": [
       "      date_mutation  valeur_fonciere  adresse_numero  \\\n",
       "0        2017-01-03     5.505597e+05               8   \n",
       "1        2017-01-12     1.576492e+06              32   \n",
       "2        2017-01-10     6.577574e+05              52   \n",
       "3        2017-01-10     2.500868e+05              64   \n",
       "4        2017-01-13     1.762667e+05              25   \n",
       "...             ...              ...             ...   \n",
       "26191    2021-02-25     4.712239e+05              16   \n",
       "26192    2021-02-17     1.982330e+06              23   \n",
       "26193    2021-03-08     3.124359e+05               5   \n",
       "26194    2021-03-11     1.562234e+05              15   \n",
       "26195    2021-03-19     3.694294e+05             190   \n",
       "\n",
       "                     adresse_nom_voie  code_postal               nom_commune  \\\n",
       "0      RUE DES COUTURES SAINT GERVAIS        75003   Paris 3e Arrondissement   \n",
       "1                          AV MARCEAU        75008   Paris 8e Arrondissement   \n",
       "2        RUE DU FAUBOURG SAINT HONORE        75008   Paris 8e Arrondissement   \n",
       "3                     RUE DU VERTBOIS        75003   Paris 3e Arrondissement   \n",
       "4      RUE DES LAVANDIERES STE OPPORT        75001  Paris 1er Arrondissement   \n",
       "...                               ...          ...                       ...   \n",
       "26191            RUE DU BOURG TIBOURG        75004   Paris 4e Arrondissement   \n",
       "26192                  RUE DU SENTIER        75002   Paris 2e Arrondissement   \n",
       "26193               RUE SAINT-SAUVEUR        75002   Paris 2e Arrondissement   \n",
       "26194                     RUE BLONDEL        75002   Paris 2e Arrondissement   \n",
       "26195                 RUE SAINT-DENIS        75002   Paris 2e Arrondissement   \n",
       "\n",
       "       code_type_local                                type_local  \\\n",
       "0                    2                               Appartement   \n",
       "1                    2                               Appartement   \n",
       "2                    2                               Appartement   \n",
       "3                    2                               Appartement   \n",
       "4                    2                               Appartement   \n",
       "...                ...                                       ...   \n",
       "26191                2                               Appartement   \n",
       "26192                4  Local industriel. commercial ou assimilé   \n",
       "26193                2                               Appartement   \n",
       "26194                2                               Appartement   \n",
       "26195                2                               Appartement   \n",
       "\n",
       "       surface_reelle  prix_au_metre_carre  \n",
       "0                  50         11011.193562  \n",
       "1                 163          9671.732877  \n",
       "2                  66          9966.020548  \n",
       "3                  22         11367.582877  \n",
       "4                  15         11751.113836  \n",
       "...               ...                  ...  \n",
       "26191              37         12735.781918  \n",
       "26192             150         13215.536370  \n",
       "26193              26         12016.765753  \n",
       "26194              13         12017.182877  \n",
       "26195              32         11544.667808  \n",
       "\n",
       "[26196 rows x 10 columns]"
      ]
     },
     "execution_count": 142,
     "metadata": {},
     "output_type": "execute_result"
    }
   ],
   "source": [
    "historique_im"
   ]
  },
  {
   "cell_type": "code",
   "execution_count": 143,
   "id": "f445991c",
   "metadata": {},
   "outputs": [
    {
     "name": "stdout",
     "output_type": "stream",
     "text": [
      "       75001  75002  75003  75004  75005  75006  75007  75008  75009  75010  \\\n",
      "0          0      0      1      0      0      0      0      0      0      0   \n",
      "1          0      0      0      0      0      0      0      1      0      0   \n",
      "2          0      0      0      0      0      0      0      1      0      0   \n",
      "3          0      0      1      0      0      0      0      0      0      0   \n",
      "4          1      0      0      0      0      0      0      0      0      0   \n",
      "...      ...    ...    ...    ...    ...    ...    ...    ...    ...    ...   \n",
      "26191      0      0      0      1      0      0      0      0      0      0   \n",
      "26192      0      1      0      0      0      0      0      0      0      0   \n",
      "26193      0      1      0      0      0      0      0      0      0      0   \n",
      "26194      0      1      0      0      0      0      0      0      0      0   \n",
      "26195      0      1      0      0      0      0      0      0      0      0   \n",
      "\n",
      "       75011  75012  75013  75014  75015  75016  75017  75018  75019  75020  \n",
      "0          0      0      0      0      0      0      0      0      0      0  \n",
      "1          0      0      0      0      0      0      0      0      0      0  \n",
      "2          0      0      0      0      0      0      0      0      0      0  \n",
      "3          0      0      0      0      0      0      0      0      0      0  \n",
      "4          0      0      0      0      0      0      0      0      0      0  \n",
      "...      ...    ...    ...    ...    ...    ...    ...    ...    ...    ...  \n",
      "26191      0      0      0      0      0      0      0      0      0      0  \n",
      "26192      0      0      0      0      0      0      0      0      0      0  \n",
      "26193      0      0      0      0      0      0      0      0      0      0  \n",
      "26194      0      0      0      0      0      0      0      0      0      0  \n",
      "26195      0      0      0      0      0      0      0      0      0      0  \n",
      "\n",
      "[26196 rows x 20 columns]\n"
     ]
    }
   ],
   "source": [
    "code_01=pd.get_dummies(historique_im['code_postal'])\n",
    "print(code_01)"
   ]
  },
  {
   "cell_type": "code",
   "execution_count": 144,
   "id": "9fb8615c",
   "metadata": {},
   "outputs": [
    {
     "name": "stdout",
     "output_type": "stream",
     "text": [
      "      date_mutation  valeur_fonciere  adresse_numero  \\\n",
      "0        2017-01-03     5.505597e+05               8   \n",
      "1        2017-01-12     1.576492e+06              32   \n",
      "2        2017-01-10     6.577574e+05              52   \n",
      "3        2017-01-10     2.500868e+05              64   \n",
      "4        2017-01-13     1.762667e+05              25   \n",
      "...             ...              ...             ...   \n",
      "26191    2021-02-25     4.712239e+05              16   \n",
      "26192    2021-02-17     1.982330e+06              23   \n",
      "26193    2021-03-08     3.124359e+05               5   \n",
      "26194    2021-03-11     1.562234e+05              15   \n",
      "26195    2021-03-19     3.694294e+05             190   \n",
      "\n",
      "                     adresse_nom_voie  code_postal               nom_commune  \\\n",
      "0      RUE DES COUTURES SAINT GERVAIS        75003   Paris 3e Arrondissement   \n",
      "1                          AV MARCEAU        75008   Paris 8e Arrondissement   \n",
      "2        RUE DU FAUBOURG SAINT HONORE        75008   Paris 8e Arrondissement   \n",
      "3                     RUE DU VERTBOIS        75003   Paris 3e Arrondissement   \n",
      "4      RUE DES LAVANDIERES STE OPPORT        75001  Paris 1er Arrondissement   \n",
      "...                               ...          ...                       ...   \n",
      "26191            RUE DU BOURG TIBOURG        75004   Paris 4e Arrondissement   \n",
      "26192                  RUE DU SENTIER        75002   Paris 2e Arrondissement   \n",
      "26193               RUE SAINT-SAUVEUR        75002   Paris 2e Arrondissement   \n",
      "26194                     RUE BLONDEL        75002   Paris 2e Arrondissement   \n",
      "26195                 RUE SAINT-DENIS        75002   Paris 2e Arrondissement   \n",
      "\n",
      "       code_type_local                                type_local  \\\n",
      "0                    2                               Appartement   \n",
      "1                    2                               Appartement   \n",
      "2                    2                               Appartement   \n",
      "3                    2                               Appartement   \n",
      "4                    2                               Appartement   \n",
      "...                ...                                       ...   \n",
      "26191                2                               Appartement   \n",
      "26192                4  Local industriel. commercial ou assimilé   \n",
      "26193                2                               Appartement   \n",
      "26194                2                               Appartement   \n",
      "26195                2                               Appartement   \n",
      "\n",
      "       surface_reelle  prix_au_metre_carre  ...  75011  75012  75013  75014  \\\n",
      "0                  50         11011.193562  ...      0      0      0      0   \n",
      "1                 163          9671.732877  ...      0      0      0      0   \n",
      "2                  66          9966.020548  ...      0      0      0      0   \n",
      "3                  22         11367.582877  ...      0      0      0      0   \n",
      "4                  15         11751.113836  ...      0      0      0      0   \n",
      "...               ...                  ...  ...    ...    ...    ...    ...   \n",
      "26191              37         12735.781918  ...      0      0      0      0   \n",
      "26192             150         13215.536370  ...      0      0      0      0   \n",
      "26193              26         12016.765753  ...      0      0      0      0   \n",
      "26194              13         12017.182877  ...      0      0      0      0   \n",
      "26195              32         11544.667808  ...      0      0      0      0   \n",
      "\n",
      "       75015  75016  75017  75018  75019  75020  \n",
      "0          0      0      0      0      0      0  \n",
      "1          0      0      0      0      0      0  \n",
      "2          0      0      0      0      0      0  \n",
      "3          0      0      0      0      0      0  \n",
      "4          0      0      0      0      0      0  \n",
      "...      ...    ...    ...    ...    ...    ...  \n",
      "26191      0      0      0      0      0      0  \n",
      "26192      0      0      0      0      0      0  \n",
      "26193      0      0      0      0      0      0  \n",
      "26194      0      0      0      0      0      0  \n",
      "26195      0      0      0      0      0      0  \n",
      "\n",
      "[26196 rows x 30 columns]\n"
     ]
    }
   ],
   "source": [
    "data_historique=historique_im.join(code_01)\n",
    "print(data_historique)"
   ]
  },
  {
   "cell_type": "code",
   "execution_count": 145,
   "id": "4569234c",
   "metadata": {},
   "outputs": [
    {
     "name": "stdout",
     "output_type": "stream",
     "text": [
      "      date_mutation  valeur_fonciere  adresse_numero  \\\n",
      "0        2017-01-03     5.505597e+05               8   \n",
      "1        2017-01-12     1.576492e+06              32   \n",
      "2        2017-01-10     6.577574e+05              52   \n",
      "3        2017-01-10     2.500868e+05              64   \n",
      "4        2017-01-13     1.762667e+05              25   \n",
      "...             ...              ...             ...   \n",
      "26191    2021-02-25     4.712239e+05              16   \n",
      "26192    2021-02-17     1.982330e+06              23   \n",
      "26193    2021-03-08     3.124359e+05               5   \n",
      "26194    2021-03-11     1.562234e+05              15   \n",
      "26195    2021-03-19     3.694294e+05             190   \n",
      "\n",
      "                     adresse_nom_voie  code_postal               nom_commune  \\\n",
      "0      RUE DES COUTURES SAINT GERVAIS        75003   Paris 3e Arrondissement   \n",
      "1                          AV MARCEAU        75008   Paris 8e Arrondissement   \n",
      "2        RUE DU FAUBOURG SAINT HONORE        75008   Paris 8e Arrondissement   \n",
      "3                     RUE DU VERTBOIS        75003   Paris 3e Arrondissement   \n",
      "4      RUE DES LAVANDIERES STE OPPORT        75001  Paris 1er Arrondissement   \n",
      "...                               ...          ...                       ...   \n",
      "26191            RUE DU BOURG TIBOURG        75004   Paris 4e Arrondissement   \n",
      "26192                  RUE DU SENTIER        75002   Paris 2e Arrondissement   \n",
      "26193               RUE SAINT-SAUVEUR        75002   Paris 2e Arrondissement   \n",
      "26194                     RUE BLONDEL        75002   Paris 2e Arrondissement   \n",
      "26195                 RUE SAINT-DENIS        75002   Paris 2e Arrondissement   \n",
      "\n",
      "       code_type_local                                type_local  \\\n",
      "0                    2                               Appartement   \n",
      "1                    2                               Appartement   \n",
      "2                    2                               Appartement   \n",
      "3                    2                               Appartement   \n",
      "4                    2                               Appartement   \n",
      "...                ...                                       ...   \n",
      "26191                2                               Appartement   \n",
      "26192                4  Local industriel. commercial ou assimilé   \n",
      "26193                2                               Appartement   \n",
      "26194                2                               Appartement   \n",
      "26195                2                               Appartement   \n",
      "\n",
      "       surface_reelle  prix_au_metre_carre  ...  75013  75014  75015  75016  \\\n",
      "0                  50         11011.193562  ...      0      0      0      0   \n",
      "1                 163          9671.732877  ...      0      0      0      0   \n",
      "2                  66          9966.020548  ...      0      0      0      0   \n",
      "3                  22         11367.582877  ...      0      0      0      0   \n",
      "4                  15         11751.113836  ...      0      0      0      0   \n",
      "...               ...                  ...  ...    ...    ...    ...    ...   \n",
      "26191              37         12735.781918  ...      0      0      0      0   \n",
      "26192             150         13215.536370  ...      0      0      0      0   \n",
      "26193              26         12016.765753  ...      0      0      0      0   \n",
      "26194              13         12017.182877  ...      0      0      0      0   \n",
      "26195              32         11544.667808  ...      0      0      0      0   \n",
      "\n",
      "       75017  75018  75019  75020  Appartement  \\\n",
      "0          0      0      0      0            1   \n",
      "1          0      0      0      0            1   \n",
      "2          0      0      0      0            1   \n",
      "3          0      0      0      0            1   \n",
      "4          0      0      0      0            1   \n",
      "...      ...    ...    ...    ...          ...   \n",
      "26191      0      0      0      0            1   \n",
      "26192      0      0      0      0            0   \n",
      "26193      0      0      0      0            1   \n",
      "26194      0      0      0      0            1   \n",
      "26195      0      0      0      0            1   \n",
      "\n",
      "       Local industriel. commercial ou assimilé  \n",
      "0                                             0  \n",
      "1                                             0  \n",
      "2                                             0  \n",
      "3                                             0  \n",
      "4                                             0  \n",
      "...                                         ...  \n",
      "26191                                         0  \n",
      "26192                                         1  \n",
      "26193                                         0  \n",
      "26194                                         0  \n",
      "26195                                         0  \n",
      "\n",
      "[26196 rows x 32 columns]\n"
     ]
    }
   ],
   "source": [
    "data_historique = data_historique.join(pd.get_dummies(data_historique['type_local']))\n",
    "print(data_historique)"
   ]
  },
  {
   "cell_type": "code",
   "execution_count": 146,
   "id": "cfc98668",
   "metadata": {},
   "outputs": [],
   "source": [
    "date_reference = pd.to_datetime('2017-01-02')"
   ]
  },
  {
   "cell_type": "code",
   "execution_count": 147,
   "id": "15e7e1d6",
   "metadata": {},
   "outputs": [],
   "source": [
    "data_historique['date_mutation_s'] = (data_historique['date_mutation'] - date_reference).dt.total_seconds()"
   ]
  },
  {
   "cell_type": "code",
   "execution_count": 148,
   "id": "8e0178b6",
   "metadata": {},
   "outputs": [],
   "source": [
    "data_historique.drop(['date_mutation','code_postal','code_type_local','type_local','adresse_numero','adresse_nom_voie','nom_commune','prix_au_metre_carre'],axis='columns',inplace=True)\n"
   ]
  },
  {
   "cell_type": "code",
   "execution_count": 149,
   "id": "e0bfa56b",
   "metadata": {},
   "outputs": [
    {
     "data": {
      "text/html": [
       "<div>\n",
       "<style scoped>\n",
       "    .dataframe tbody tr th:only-of-type {\n",
       "        vertical-align: middle;\n",
       "    }\n",
       "\n",
       "    .dataframe tbody tr th {\n",
       "        vertical-align: top;\n",
       "    }\n",
       "\n",
       "    .dataframe thead th {\n",
       "        text-align: right;\n",
       "    }\n",
       "</style>\n",
       "<table border=\"1\" class=\"dataframe\">\n",
       "  <thead>\n",
       "    <tr style=\"text-align: right;\">\n",
       "      <th></th>\n",
       "      <th>valeur_fonciere</th>\n",
       "      <th>surface_reelle</th>\n",
       "      <th>75001</th>\n",
       "      <th>75002</th>\n",
       "      <th>75003</th>\n",
       "      <th>75004</th>\n",
       "      <th>75005</th>\n",
       "      <th>75006</th>\n",
       "      <th>75007</th>\n",
       "      <th>75008</th>\n",
       "      <th>...</th>\n",
       "      <th>75014</th>\n",
       "      <th>75015</th>\n",
       "      <th>75016</th>\n",
       "      <th>75017</th>\n",
       "      <th>75018</th>\n",
       "      <th>75019</th>\n",
       "      <th>75020</th>\n",
       "      <th>Appartement</th>\n",
       "      <th>Local industriel. commercial ou assimilé</th>\n",
       "      <th>date_mutation_s</th>\n",
       "    </tr>\n",
       "  </thead>\n",
       "  <tbody>\n",
       "    <tr>\n",
       "      <th>0</th>\n",
       "      <td>5.505597e+05</td>\n",
       "      <td>50</td>\n",
       "      <td>0</td>\n",
       "      <td>0</td>\n",
       "      <td>1</td>\n",
       "      <td>0</td>\n",
       "      <td>0</td>\n",
       "      <td>0</td>\n",
       "      <td>0</td>\n",
       "      <td>0</td>\n",
       "      <td>...</td>\n",
       "      <td>0</td>\n",
       "      <td>0</td>\n",
       "      <td>0</td>\n",
       "      <td>0</td>\n",
       "      <td>0</td>\n",
       "      <td>0</td>\n",
       "      <td>0</td>\n",
       "      <td>1</td>\n",
       "      <td>0</td>\n",
       "      <td>86400.0</td>\n",
       "    </tr>\n",
       "    <tr>\n",
       "      <th>1</th>\n",
       "      <td>1.576492e+06</td>\n",
       "      <td>163</td>\n",
       "      <td>0</td>\n",
       "      <td>0</td>\n",
       "      <td>0</td>\n",
       "      <td>0</td>\n",
       "      <td>0</td>\n",
       "      <td>0</td>\n",
       "      <td>0</td>\n",
       "      <td>1</td>\n",
       "      <td>...</td>\n",
       "      <td>0</td>\n",
       "      <td>0</td>\n",
       "      <td>0</td>\n",
       "      <td>0</td>\n",
       "      <td>0</td>\n",
       "      <td>0</td>\n",
       "      <td>0</td>\n",
       "      <td>1</td>\n",
       "      <td>0</td>\n",
       "      <td>864000.0</td>\n",
       "    </tr>\n",
       "    <tr>\n",
       "      <th>2</th>\n",
       "      <td>6.577574e+05</td>\n",
       "      <td>66</td>\n",
       "      <td>0</td>\n",
       "      <td>0</td>\n",
       "      <td>0</td>\n",
       "      <td>0</td>\n",
       "      <td>0</td>\n",
       "      <td>0</td>\n",
       "      <td>0</td>\n",
       "      <td>1</td>\n",
       "      <td>...</td>\n",
       "      <td>0</td>\n",
       "      <td>0</td>\n",
       "      <td>0</td>\n",
       "      <td>0</td>\n",
       "      <td>0</td>\n",
       "      <td>0</td>\n",
       "      <td>0</td>\n",
       "      <td>1</td>\n",
       "      <td>0</td>\n",
       "      <td>691200.0</td>\n",
       "    </tr>\n",
       "    <tr>\n",
       "      <th>3</th>\n",
       "      <td>2.500868e+05</td>\n",
       "      <td>22</td>\n",
       "      <td>0</td>\n",
       "      <td>0</td>\n",
       "      <td>1</td>\n",
       "      <td>0</td>\n",
       "      <td>0</td>\n",
       "      <td>0</td>\n",
       "      <td>0</td>\n",
       "      <td>0</td>\n",
       "      <td>...</td>\n",
       "      <td>0</td>\n",
       "      <td>0</td>\n",
       "      <td>0</td>\n",
       "      <td>0</td>\n",
       "      <td>0</td>\n",
       "      <td>0</td>\n",
       "      <td>0</td>\n",
       "      <td>1</td>\n",
       "      <td>0</td>\n",
       "      <td>691200.0</td>\n",
       "    </tr>\n",
       "    <tr>\n",
       "      <th>4</th>\n",
       "      <td>1.762667e+05</td>\n",
       "      <td>15</td>\n",
       "      <td>1</td>\n",
       "      <td>0</td>\n",
       "      <td>0</td>\n",
       "      <td>0</td>\n",
       "      <td>0</td>\n",
       "      <td>0</td>\n",
       "      <td>0</td>\n",
       "      <td>0</td>\n",
       "      <td>...</td>\n",
       "      <td>0</td>\n",
       "      <td>0</td>\n",
       "      <td>0</td>\n",
       "      <td>0</td>\n",
       "      <td>0</td>\n",
       "      <td>0</td>\n",
       "      <td>0</td>\n",
       "      <td>1</td>\n",
       "      <td>0</td>\n",
       "      <td>950400.0</td>\n",
       "    </tr>\n",
       "    <tr>\n",
       "      <th>...</th>\n",
       "      <td>...</td>\n",
       "      <td>...</td>\n",
       "      <td>...</td>\n",
       "      <td>...</td>\n",
       "      <td>...</td>\n",
       "      <td>...</td>\n",
       "      <td>...</td>\n",
       "      <td>...</td>\n",
       "      <td>...</td>\n",
       "      <td>...</td>\n",
       "      <td>...</td>\n",
       "      <td>...</td>\n",
       "      <td>...</td>\n",
       "      <td>...</td>\n",
       "      <td>...</td>\n",
       "      <td>...</td>\n",
       "      <td>...</td>\n",
       "      <td>...</td>\n",
       "      <td>...</td>\n",
       "      <td>...</td>\n",
       "      <td>...</td>\n",
       "    </tr>\n",
       "    <tr>\n",
       "      <th>26191</th>\n",
       "      <td>4.712239e+05</td>\n",
       "      <td>37</td>\n",
       "      <td>0</td>\n",
       "      <td>0</td>\n",
       "      <td>0</td>\n",
       "      <td>1</td>\n",
       "      <td>0</td>\n",
       "      <td>0</td>\n",
       "      <td>0</td>\n",
       "      <td>0</td>\n",
       "      <td>...</td>\n",
       "      <td>0</td>\n",
       "      <td>0</td>\n",
       "      <td>0</td>\n",
       "      <td>0</td>\n",
       "      <td>0</td>\n",
       "      <td>0</td>\n",
       "      <td>0</td>\n",
       "      <td>1</td>\n",
       "      <td>0</td>\n",
       "      <td>130896000.0</td>\n",
       "    </tr>\n",
       "    <tr>\n",
       "      <th>26192</th>\n",
       "      <td>1.982330e+06</td>\n",
       "      <td>150</td>\n",
       "      <td>0</td>\n",
       "      <td>1</td>\n",
       "      <td>0</td>\n",
       "      <td>0</td>\n",
       "      <td>0</td>\n",
       "      <td>0</td>\n",
       "      <td>0</td>\n",
       "      <td>0</td>\n",
       "      <td>...</td>\n",
       "      <td>0</td>\n",
       "      <td>0</td>\n",
       "      <td>0</td>\n",
       "      <td>0</td>\n",
       "      <td>0</td>\n",
       "      <td>0</td>\n",
       "      <td>0</td>\n",
       "      <td>0</td>\n",
       "      <td>1</td>\n",
       "      <td>130204800.0</td>\n",
       "    </tr>\n",
       "    <tr>\n",
       "      <th>26193</th>\n",
       "      <td>3.124359e+05</td>\n",
       "      <td>26</td>\n",
       "      <td>0</td>\n",
       "      <td>1</td>\n",
       "      <td>0</td>\n",
       "      <td>0</td>\n",
       "      <td>0</td>\n",
       "      <td>0</td>\n",
       "      <td>0</td>\n",
       "      <td>0</td>\n",
       "      <td>...</td>\n",
       "      <td>0</td>\n",
       "      <td>0</td>\n",
       "      <td>0</td>\n",
       "      <td>0</td>\n",
       "      <td>0</td>\n",
       "      <td>0</td>\n",
       "      <td>0</td>\n",
       "      <td>1</td>\n",
       "      <td>0</td>\n",
       "      <td>131846400.0</td>\n",
       "    </tr>\n",
       "    <tr>\n",
       "      <th>26194</th>\n",
       "      <td>1.562234e+05</td>\n",
       "      <td>13</td>\n",
       "      <td>0</td>\n",
       "      <td>1</td>\n",
       "      <td>0</td>\n",
       "      <td>0</td>\n",
       "      <td>0</td>\n",
       "      <td>0</td>\n",
       "      <td>0</td>\n",
       "      <td>0</td>\n",
       "      <td>...</td>\n",
       "      <td>0</td>\n",
       "      <td>0</td>\n",
       "      <td>0</td>\n",
       "      <td>0</td>\n",
       "      <td>0</td>\n",
       "      <td>0</td>\n",
       "      <td>0</td>\n",
       "      <td>1</td>\n",
       "      <td>0</td>\n",
       "      <td>132105600.0</td>\n",
       "    </tr>\n",
       "    <tr>\n",
       "      <th>26195</th>\n",
       "      <td>3.694294e+05</td>\n",
       "      <td>32</td>\n",
       "      <td>0</td>\n",
       "      <td>1</td>\n",
       "      <td>0</td>\n",
       "      <td>0</td>\n",
       "      <td>0</td>\n",
       "      <td>0</td>\n",
       "      <td>0</td>\n",
       "      <td>0</td>\n",
       "      <td>...</td>\n",
       "      <td>0</td>\n",
       "      <td>0</td>\n",
       "      <td>0</td>\n",
       "      <td>0</td>\n",
       "      <td>0</td>\n",
       "      <td>0</td>\n",
       "      <td>0</td>\n",
       "      <td>1</td>\n",
       "      <td>0</td>\n",
       "      <td>132796800.0</td>\n",
       "    </tr>\n",
       "  </tbody>\n",
       "</table>\n",
       "<p>26196 rows × 25 columns</p>\n",
       "</div>"
      ],
      "text/plain": [
       "       valeur_fonciere  surface_reelle  75001  75002  75003  75004  75005  \\\n",
       "0         5.505597e+05              50      0      0      1      0      0   \n",
       "1         1.576492e+06             163      0      0      0      0      0   \n",
       "2         6.577574e+05              66      0      0      0      0      0   \n",
       "3         2.500868e+05              22      0      0      1      0      0   \n",
       "4         1.762667e+05              15      1      0      0      0      0   \n",
       "...                ...             ...    ...    ...    ...    ...    ...   \n",
       "26191     4.712239e+05              37      0      0      0      1      0   \n",
       "26192     1.982330e+06             150      0      1      0      0      0   \n",
       "26193     3.124359e+05              26      0      1      0      0      0   \n",
       "26194     1.562234e+05              13      0      1      0      0      0   \n",
       "26195     3.694294e+05              32      0      1      0      0      0   \n",
       "\n",
       "       75006  75007  75008  ...  75014  75015  75016  75017  75018  75019  \\\n",
       "0          0      0      0  ...      0      0      0      0      0      0   \n",
       "1          0      0      1  ...      0      0      0      0      0      0   \n",
       "2          0      0      1  ...      0      0      0      0      0      0   \n",
       "3          0      0      0  ...      0      0      0      0      0      0   \n",
       "4          0      0      0  ...      0      0      0      0      0      0   \n",
       "...      ...    ...    ...  ...    ...    ...    ...    ...    ...    ...   \n",
       "26191      0      0      0  ...      0      0      0      0      0      0   \n",
       "26192      0      0      0  ...      0      0      0      0      0      0   \n",
       "26193      0      0      0  ...      0      0      0      0      0      0   \n",
       "26194      0      0      0  ...      0      0      0      0      0      0   \n",
       "26195      0      0      0  ...      0      0      0      0      0      0   \n",
       "\n",
       "       75020  Appartement  Local industriel. commercial ou assimilé  \\\n",
       "0          0            1                                         0   \n",
       "1          0            1                                         0   \n",
       "2          0            1                                         0   \n",
       "3          0            1                                         0   \n",
       "4          0            1                                         0   \n",
       "...      ...          ...                                       ...   \n",
       "26191      0            1                                         0   \n",
       "26192      0            0                                         1   \n",
       "26193      0            1                                         0   \n",
       "26194      0            1                                         0   \n",
       "26195      0            1                                         0   \n",
       "\n",
       "       date_mutation_s  \n",
       "0              86400.0  \n",
       "1             864000.0  \n",
       "2             691200.0  \n",
       "3             691200.0  \n",
       "4             950400.0  \n",
       "...                ...  \n",
       "26191      130896000.0  \n",
       "26192      130204800.0  \n",
       "26193      131846400.0  \n",
       "26194      132105600.0  \n",
       "26195      132796800.0  \n",
       "\n",
       "[26196 rows x 25 columns]"
      ]
     },
     "execution_count": 149,
     "metadata": {},
     "output_type": "execute_result"
    }
   ],
   "source": [
    "data_historique"
   ]
  },
  {
   "cell_type": "markdown",
   "id": "843bd9ed",
   "metadata": {},
   "source": [
    "On utilise le train_test_split pour prélever un tiers de nos données (33%) et les garder de côté. Nous allons entraîner notre algorithme sur le reste des données et puis mesurer notre erreur moyenne en pourcentage de la valeur foncière"
   ]
  },
  {
   "cell_type": "code",
   "execution_count": 150,
   "id": "972730c1",
   "metadata": {},
   "outputs": [],
   "source": [
    "# On importe le train test split de la librairie sk_learn\n",
    "from sklearn.model_selection import train_test_split\n",
    "# La valeur y à trouver est la valeur foncière\n",
    "X_train, X_test, y_train, y_test = train_test_split(data_historique[['surface_reelle',75001,75002,75003,75004,75005,75006,75007,75008,75009,75010,75011,75012,75013,75014,75015,75016,75017,75018,75019,75020,'Appartement','Local industriel. commercial ou assimilé','date_mutation_s']],data_historique['valeur_fonciere'],test_size=0.33,random_state=6)\n"
   ]
  },
  {
   "cell_type": "code",
   "execution_count": 151,
   "id": "fd3a7286",
   "metadata": {},
   "outputs": [],
   "source": [
    "#conversion des données en str\n",
    "X_train.columns = X_train.columns.astype(str)\n",
    "X_test.columns = X_test.columns.astype(str)"
   ]
  },
  {
   "cell_type": "code",
   "execution_count": 152,
   "id": "84d38146",
   "metadata": {},
   "outputs": [
    {
     "data": {
      "text/plain": [
       "8.930168288171359"
      ]
     },
     "execution_count": 152,
     "metadata": {},
     "output_type": "execute_result"
    }
   ],
   "source": [
    "from sklearn.linear_model import LinearRegression\n",
    "#On entraîne l'algorithme ci-dessous et on effectue la prédiction\n",
    "model_line=LinearRegression().fit(X_train,y_train)\n",
    "y_pred=model_line.predict(X_test)\n",
    "(np.mean(abs(y_test-y_pred)/y_test))*100"
   ]
  },
  {
   "cell_type": "markdown",
   "id": "178309e5",
   "metadata": {},
   "source": [
    "Notre algorithme fait donc ? % d'erreur en moyenne sur la prédiction de la valeur foncière.\n",
    "\n",
    "Mes conclusions sur ce résultat et comment j'aurais pu aller plus loin :\n",
    "- ?\n",
    "- ?\n",
    "- ?\n",
    "- ?"
   ]
  },
  {
   "cell_type": "markdown",
   "id": "8057b17c",
   "metadata": {},
   "source": [
    "# Milestone 3 - Prédiction définitive pour le client "
   ]
  },
  {
   "cell_type": "markdown",
   "id": "9c696fd8",
   "metadata": {},
   "source": [
    "Nous avons récupéré le fichier avec le portefeuille des actifs de la société. Nous allons l'importer puis effectuer la prédiction et statuer sur la branche qui, selon notre prédiction, aura le plus de valeur à la date demandée c'est à dire au 31 décembre 2022.<br>\n",
    "Petite précision, nous souhaitons continuer à utiliser la surface réelle pour faire les calculs et pas la surface carrez. "
   ]
  },
  {
   "cell_type": "code",
   "execution_count": 153,
   "id": "9263e666",
   "metadata": {},
   "outputs": [
    {
     "data": {
      "text/html": [
       "<div>\n",
       "<style scoped>\n",
       "    .dataframe tbody tr th:only-of-type {\n",
       "        vertical-align: middle;\n",
       "    }\n",
       "\n",
       "    .dataframe tbody tr th {\n",
       "        vertical-align: top;\n",
       "    }\n",
       "\n",
       "    .dataframe thead th {\n",
       "        text-align: right;\n",
       "    }\n",
       "</style>\n",
       "<table border=\"1\" class=\"dataframe\">\n",
       "  <thead>\n",
       "    <tr style=\"text-align: right;\">\n",
       "      <th></th>\n",
       "      <th>adresse_numero</th>\n",
       "      <th>adresse_nom_voie</th>\n",
       "      <th>code_postal</th>\n",
       "      <th>code_commune</th>\n",
       "      <th>nom_commune</th>\n",
       "      <th>surface_carrez</th>\n",
       "      <th>code_type_local</th>\n",
       "      <th>type_local</th>\n",
       "      <th>surface_reelle_bati</th>\n",
       "      <th>nombre_pieces_principales</th>\n",
       "      <th>longitude</th>\n",
       "      <th>latitude</th>\n",
       "    </tr>\n",
       "  </thead>\n",
       "  <tbody>\n",
       "    <tr>\n",
       "      <th>0</th>\n",
       "      <td>127</td>\n",
       "      <td>RUE SAINT-DENIS</td>\n",
       "      <td>75001</td>\n",
       "      <td>75101</td>\n",
       "      <td>Paris 1er Arrondissement</td>\n",
       "      <td>16.41</td>\n",
       "      <td>2</td>\n",
       "      <td>Appartement</td>\n",
       "      <td>25</td>\n",
       "      <td>1</td>\n",
       "      <td>2.349593</td>\n",
       "      <td>48.863227</td>\n",
       "    </tr>\n",
       "    <tr>\n",
       "      <th>1</th>\n",
       "      <td>62</td>\n",
       "      <td>RUE NOTRE-DAME DE NAZARETH</td>\n",
       "      <td>75003</td>\n",
       "      <td>75103</td>\n",
       "      <td>Paris 3e Arrondissement</td>\n",
       "      <td>20.47</td>\n",
       "      <td>2</td>\n",
       "      <td>Appartement</td>\n",
       "      <td>22</td>\n",
       "      <td>1</td>\n",
       "      <td>2.356977</td>\n",
       "      <td>48.867907</td>\n",
       "    </tr>\n",
       "    <tr>\n",
       "      <th>2</th>\n",
       "      <td>62</td>\n",
       "      <td>RUE DE TURENNE</td>\n",
       "      <td>75003</td>\n",
       "      <td>75103</td>\n",
       "      <td>Paris 3e Arrondissement</td>\n",
       "      <td>64.48</td>\n",
       "      <td>2</td>\n",
       "      <td>Appartement</td>\n",
       "      <td>65</td>\n",
       "      <td>3</td>\n",
       "      <td>2.364855</td>\n",
       "      <td>48.859318</td>\n",
       "    </tr>\n",
       "    <tr>\n",
       "      <th>3</th>\n",
       "      <td>32</td>\n",
       "      <td>AV GEORGE V</td>\n",
       "      <td>75008</td>\n",
       "      <td>75108</td>\n",
       "      <td>Paris 8e Arrondissement</td>\n",
       "      <td>63.29</td>\n",
       "      <td>2</td>\n",
       "      <td>Appartement</td>\n",
       "      <td>74</td>\n",
       "      <td>2</td>\n",
       "      <td>2.301586</td>\n",
       "      <td>48.868893</td>\n",
       "    </tr>\n",
       "    <tr>\n",
       "      <th>4</th>\n",
       "      <td>152</td>\n",
       "      <td>BD HAUSSMANN</td>\n",
       "      <td>75008</td>\n",
       "      <td>75108</td>\n",
       "      <td>Paris 8e Arrondissement</td>\n",
       "      <td>20.58</td>\n",
       "      <td>2</td>\n",
       "      <td>Appartement</td>\n",
       "      <td>22</td>\n",
       "      <td>1</td>\n",
       "      <td>2.311643</td>\n",
       "      <td>48.875490</td>\n",
       "    </tr>\n",
       "  </tbody>\n",
       "</table>\n",
       "</div>"
      ],
      "text/plain": [
       "   adresse_numero            adresse_nom_voie  code_postal  code_commune  \\\n",
       "0             127             RUE SAINT-DENIS        75001         75101   \n",
       "1              62  RUE NOTRE-DAME DE NAZARETH        75003         75103   \n",
       "2              62              RUE DE TURENNE        75003         75103   \n",
       "3              32                 AV GEORGE V        75008         75108   \n",
       "4             152                BD HAUSSMANN        75008         75108   \n",
       "\n",
       "                nom_commune  surface_carrez  code_type_local   type_local  \\\n",
       "0  Paris 1er Arrondissement           16.41                2  Appartement   \n",
       "1   Paris 3e Arrondissement           20.47                2  Appartement   \n",
       "2   Paris 3e Arrondissement           64.48                2  Appartement   \n",
       "3   Paris 8e Arrondissement           63.29                2  Appartement   \n",
       "4   Paris 8e Arrondissement           20.58                2  Appartement   \n",
       "\n",
       "   surface_reelle_bati  nombre_pieces_principales  longitude   latitude  \n",
       "0                   25                          1   2.349593  48.863227  \n",
       "1                   22                          1   2.356977  48.867907  \n",
       "2                   65                          3   2.364855  48.859318  \n",
       "3                   74                          2   2.301586  48.868893  \n",
       "4                   22                          1   2.311643  48.875490  "
      ]
     },
     "execution_count": 153,
     "metadata": {},
     "output_type": "execute_result"
    }
   ],
   "source": [
    "#On importe les données dans un dataframe\n",
    "portefeuille_actifs= pd.read_excel(\"portefeuille_actifs+(3) (1).xlsx\")\n",
    "portefeuille_actifs.head()"
   ]
  },
  {
   "cell_type": "markdown",
   "id": "736a5380",
   "metadata": {},
   "source": [
    "Nous avons la liste des biens immobiliers de l'entreprise. Pour effectuer une prédiction, nous devons mettre ce fichier au même format que le dataframe que nous avons utilisé lors de l'entraînement de l'algorithme."
   ]
  },
  {
   "cell_type": "code",
   "execution_count": 154,
   "id": "4d6a8b40",
   "metadata": {},
   "outputs": [
    {
     "name": "stdout",
     "output_type": "stream",
     "text": [
      "     adresse_numero            adresse_nom_voie  code_postal  code_commune  \\\n",
      "0               127             RUE SAINT-DENIS        75001         75101   \n",
      "1                62  RUE NOTRE-DAME DE NAZARETH        75003         75103   \n",
      "2                62              RUE DE TURENNE        75003         75103   \n",
      "3                32                 AV GEORGE V        75008         75108   \n",
      "4               152                BD HAUSSMANN        75008         75108   \n",
      "..              ...                         ...          ...           ...   \n",
      "270              15              AV DE LAUMIERE        75019         75119   \n",
      "271               3            RUE SAINT-JOSEPH        75002         75102   \n",
      "272               2                  RUE GRETRY        75002         75102   \n",
      "273             115               RUE D ABOUKIR        75002         75102   \n",
      "274              16                 RUE AUBRIOT        75004         75104   \n",
      "\n",
      "                  nom_commune  surface_carrez  code_type_local  \\\n",
      "0    Paris 1er Arrondissement           16.41                2   \n",
      "1     Paris 3e Arrondissement           20.47                2   \n",
      "2     Paris 3e Arrondissement           64.48                2   \n",
      "3     Paris 8e Arrondissement           63.29                2   \n",
      "4     Paris 8e Arrondissement           20.58                2   \n",
      "..                        ...             ...              ...   \n",
      "270  Paris 19e Arrondissement           14.12                4   \n",
      "271   Paris 2e Arrondissement           14.10                4   \n",
      "272   Paris 2e Arrondissement           34.85                4   \n",
      "273   Paris 2e Arrondissement           41.61                4   \n",
      "274   Paris 4e Arrondissement           20.40                4   \n",
      "\n",
      "                                   type_local  surface_reelle_bati  \\\n",
      "0                                 Appartement                   25   \n",
      "1                                 Appartement                   22   \n",
      "2                                 Appartement                   65   \n",
      "3                                 Appartement                   74   \n",
      "4                                 Appartement                   22   \n",
      "..                                        ...                  ...   \n",
      "270  Local industriel. commercial ou assimilé                   16   \n",
      "271  Local industriel. commercial ou assimilé                   15   \n",
      "272  Local industriel. commercial ou assimilé                   35   \n",
      "273  Local industriel. commercial ou assimilé                   49   \n",
      "274  Local industriel. commercial ou assimilé                   37   \n",
      "\n",
      "     nombre_pieces_principales  ...  75011  75012  75013  75014  75015  75016  \\\n",
      "0                            1  ...      0      0      0      0      0      0   \n",
      "1                            1  ...      0      0      0      0      0      0   \n",
      "2                            3  ...      0      0      0      0      0      0   \n",
      "3                            2  ...      0      0      0      0      0      0   \n",
      "4                            1  ...      0      0      0      0      0      0   \n",
      "..                         ...  ...    ...    ...    ...    ...    ...    ...   \n",
      "270                          0  ...      0      0      0      0      0      0   \n",
      "271                          0  ...      0      0      0      0      0      0   \n",
      "272                          0  ...      0      0      0      0      0      0   \n",
      "273                          0  ...      0      0      0      0      0      0   \n",
      "274                          0  ...      0      0      0      0      0      0   \n",
      "\n",
      "     75017  75018  75019  75020  \n",
      "0        0      0      0      0  \n",
      "1        0      0      0      0  \n",
      "2        0      0      0      0  \n",
      "3        0      0      0      0  \n",
      "4        0      0      0      0  \n",
      "..     ...    ...    ...    ...  \n",
      "270      0      0      1      0  \n",
      "271      0      0      0      0  \n",
      "272      0      0      0      0  \n",
      "273      0      0      0      0  \n",
      "274      0      0      0      0  \n",
      "\n",
      "[275 rows x 32 columns]\n"
     ]
    }
   ],
   "source": [
    "#On réutilise les mêmes fonctions pour faire le one hot encoding des variables catégorielles\n",
    "data_immobiliers= portefeuille_actifs.join(pd.get_dummies(portefeuille_actifs['code_postal']))\n",
    "print(data_immobiliers)"
   ]
  },
  {
   "cell_type": "code",
   "execution_count": 155,
   "id": "12823842",
   "metadata": {},
   "outputs": [
    {
     "name": "stdout",
     "output_type": "stream",
     "text": [
      "     adresse_numero            adresse_nom_voie  code_postal  code_commune  \\\n",
      "0               127             RUE SAINT-DENIS        75001         75101   \n",
      "1                62  RUE NOTRE-DAME DE NAZARETH        75003         75103   \n",
      "2                62              RUE DE TURENNE        75003         75103   \n",
      "3                32                 AV GEORGE V        75008         75108   \n",
      "4               152                BD HAUSSMANN        75008         75108   \n",
      "..              ...                         ...          ...           ...   \n",
      "270              15              AV DE LAUMIERE        75019         75119   \n",
      "271               3            RUE SAINT-JOSEPH        75002         75102   \n",
      "272               2                  RUE GRETRY        75002         75102   \n",
      "273             115               RUE D ABOUKIR        75002         75102   \n",
      "274              16                 RUE AUBRIOT        75004         75104   \n",
      "\n",
      "                  nom_commune  surface_carrez  code_type_local  \\\n",
      "0    Paris 1er Arrondissement           16.41                2   \n",
      "1     Paris 3e Arrondissement           20.47                2   \n",
      "2     Paris 3e Arrondissement           64.48                2   \n",
      "3     Paris 8e Arrondissement           63.29                2   \n",
      "4     Paris 8e Arrondissement           20.58                2   \n",
      "..                        ...             ...              ...   \n",
      "270  Paris 19e Arrondissement           14.12                4   \n",
      "271   Paris 2e Arrondissement           14.10                4   \n",
      "272   Paris 2e Arrondissement           34.85                4   \n",
      "273   Paris 2e Arrondissement           41.61                4   \n",
      "274   Paris 4e Arrondissement           20.40                4   \n",
      "\n",
      "                                   type_local  surface_reelle_bati  \\\n",
      "0                                 Appartement                   25   \n",
      "1                                 Appartement                   22   \n",
      "2                                 Appartement                   65   \n",
      "3                                 Appartement                   74   \n",
      "4                                 Appartement                   22   \n",
      "..                                        ...                  ...   \n",
      "270  Local industriel. commercial ou assimilé                   16   \n",
      "271  Local industriel. commercial ou assimilé                   15   \n",
      "272  Local industriel. commercial ou assimilé                   35   \n",
      "273  Local industriel. commercial ou assimilé                   49   \n",
      "274  Local industriel. commercial ou assimilé                   37   \n",
      "\n",
      "     nombre_pieces_principales  ...  75013  75014  75015  75016  75017  75018  \\\n",
      "0                            1  ...      0      0      0      0      0      0   \n",
      "1                            1  ...      0      0      0      0      0      0   \n",
      "2                            3  ...      0      0      0      0      0      0   \n",
      "3                            2  ...      0      0      0      0      0      0   \n",
      "4                            1  ...      0      0      0      0      0      0   \n",
      "..                         ...  ...    ...    ...    ...    ...    ...    ...   \n",
      "270                          0  ...      0      0      0      0      0      0   \n",
      "271                          0  ...      0      0      0      0      0      0   \n",
      "272                          0  ...      0      0      0      0      0      0   \n",
      "273                          0  ...      0      0      0      0      0      0   \n",
      "274                          0  ...      0      0      0      0      0      0   \n",
      "\n",
      "     75019  75020  Appartement  Local industriel. commercial ou assimilé  \n",
      "0        0      0            1                                         0  \n",
      "1        0      0            1                                         0  \n",
      "2        0      0            1                                         0  \n",
      "3        0      0            1                                         0  \n",
      "4        0      0            1                                         0  \n",
      "..     ...    ...          ...                                       ...  \n",
      "270      1      0            0                                         1  \n",
      "271      0      0            0                                         1  \n",
      "272      0      0            0                                         1  \n",
      "273      0      0            0                                         1  \n",
      "274      0      0            0                                         1  \n",
      "\n",
      "[275 rows x 34 columns]\n"
     ]
    }
   ],
   "source": [
    "data_immobiliers= data_immobiliers.join(pd.get_dummies(data_immobiliers['type_local']))\n",
    "print(data_immobiliers)"
   ]
  },
  {
   "cell_type": "code",
   "execution_count": 156,
   "id": "9fd42f63",
   "metadata": {},
   "outputs": [],
   "source": [
    "data_immobiliers.drop(['code_commune','code_postal','code_type_local','type_local','adresse_numero','adresse_nom_voie','nom_commune','surface_carrez','nombre_pieces_principales','longitude','latitude'],axis='columns',inplace=True)\n"
   ]
  },
  {
   "cell_type": "code",
   "execution_count": 157,
   "id": "fce3114f",
   "metadata": {},
   "outputs": [
    {
     "data": {
      "text/html": [
       "<div>\n",
       "<style scoped>\n",
       "    .dataframe tbody tr th:only-of-type {\n",
       "        vertical-align: middle;\n",
       "    }\n",
       "\n",
       "    .dataframe tbody tr th {\n",
       "        vertical-align: top;\n",
       "    }\n",
       "\n",
       "    .dataframe thead th {\n",
       "        text-align: right;\n",
       "    }\n",
       "</style>\n",
       "<table border=\"1\" class=\"dataframe\">\n",
       "  <thead>\n",
       "    <tr style=\"text-align: right;\">\n",
       "      <th></th>\n",
       "      <th>surface_reelle_bati</th>\n",
       "      <th>75001</th>\n",
       "      <th>75002</th>\n",
       "      <th>75003</th>\n",
       "      <th>75004</th>\n",
       "      <th>75005</th>\n",
       "      <th>75006</th>\n",
       "      <th>75007</th>\n",
       "      <th>75008</th>\n",
       "      <th>75009</th>\n",
       "      <th>...</th>\n",
       "      <th>75013</th>\n",
       "      <th>75014</th>\n",
       "      <th>75015</th>\n",
       "      <th>75016</th>\n",
       "      <th>75017</th>\n",
       "      <th>75018</th>\n",
       "      <th>75019</th>\n",
       "      <th>75020</th>\n",
       "      <th>Appartement</th>\n",
       "      <th>Local industriel. commercial ou assimilé</th>\n",
       "    </tr>\n",
       "  </thead>\n",
       "  <tbody>\n",
       "    <tr>\n",
       "      <th>0</th>\n",
       "      <td>25</td>\n",
       "      <td>1</td>\n",
       "      <td>0</td>\n",
       "      <td>0</td>\n",
       "      <td>0</td>\n",
       "      <td>0</td>\n",
       "      <td>0</td>\n",
       "      <td>0</td>\n",
       "      <td>0</td>\n",
       "      <td>0</td>\n",
       "      <td>...</td>\n",
       "      <td>0</td>\n",
       "      <td>0</td>\n",
       "      <td>0</td>\n",
       "      <td>0</td>\n",
       "      <td>0</td>\n",
       "      <td>0</td>\n",
       "      <td>0</td>\n",
       "      <td>0</td>\n",
       "      <td>1</td>\n",
       "      <td>0</td>\n",
       "    </tr>\n",
       "    <tr>\n",
       "      <th>1</th>\n",
       "      <td>22</td>\n",
       "      <td>0</td>\n",
       "      <td>0</td>\n",
       "      <td>1</td>\n",
       "      <td>0</td>\n",
       "      <td>0</td>\n",
       "      <td>0</td>\n",
       "      <td>0</td>\n",
       "      <td>0</td>\n",
       "      <td>0</td>\n",
       "      <td>...</td>\n",
       "      <td>0</td>\n",
       "      <td>0</td>\n",
       "      <td>0</td>\n",
       "      <td>0</td>\n",
       "      <td>0</td>\n",
       "      <td>0</td>\n",
       "      <td>0</td>\n",
       "      <td>0</td>\n",
       "      <td>1</td>\n",
       "      <td>0</td>\n",
       "    </tr>\n",
       "    <tr>\n",
       "      <th>2</th>\n",
       "      <td>65</td>\n",
       "      <td>0</td>\n",
       "      <td>0</td>\n",
       "      <td>1</td>\n",
       "      <td>0</td>\n",
       "      <td>0</td>\n",
       "      <td>0</td>\n",
       "      <td>0</td>\n",
       "      <td>0</td>\n",
       "      <td>0</td>\n",
       "      <td>...</td>\n",
       "      <td>0</td>\n",
       "      <td>0</td>\n",
       "      <td>0</td>\n",
       "      <td>0</td>\n",
       "      <td>0</td>\n",
       "      <td>0</td>\n",
       "      <td>0</td>\n",
       "      <td>0</td>\n",
       "      <td>1</td>\n",
       "      <td>0</td>\n",
       "    </tr>\n",
       "    <tr>\n",
       "      <th>3</th>\n",
       "      <td>74</td>\n",
       "      <td>0</td>\n",
       "      <td>0</td>\n",
       "      <td>0</td>\n",
       "      <td>0</td>\n",
       "      <td>0</td>\n",
       "      <td>0</td>\n",
       "      <td>0</td>\n",
       "      <td>1</td>\n",
       "      <td>0</td>\n",
       "      <td>...</td>\n",
       "      <td>0</td>\n",
       "      <td>0</td>\n",
       "      <td>0</td>\n",
       "      <td>0</td>\n",
       "      <td>0</td>\n",
       "      <td>0</td>\n",
       "      <td>0</td>\n",
       "      <td>0</td>\n",
       "      <td>1</td>\n",
       "      <td>0</td>\n",
       "    </tr>\n",
       "    <tr>\n",
       "      <th>4</th>\n",
       "      <td>22</td>\n",
       "      <td>0</td>\n",
       "      <td>0</td>\n",
       "      <td>0</td>\n",
       "      <td>0</td>\n",
       "      <td>0</td>\n",
       "      <td>0</td>\n",
       "      <td>0</td>\n",
       "      <td>1</td>\n",
       "      <td>0</td>\n",
       "      <td>...</td>\n",
       "      <td>0</td>\n",
       "      <td>0</td>\n",
       "      <td>0</td>\n",
       "      <td>0</td>\n",
       "      <td>0</td>\n",
       "      <td>0</td>\n",
       "      <td>0</td>\n",
       "      <td>0</td>\n",
       "      <td>1</td>\n",
       "      <td>0</td>\n",
       "    </tr>\n",
       "    <tr>\n",
       "      <th>...</th>\n",
       "      <td>...</td>\n",
       "      <td>...</td>\n",
       "      <td>...</td>\n",
       "      <td>...</td>\n",
       "      <td>...</td>\n",
       "      <td>...</td>\n",
       "      <td>...</td>\n",
       "      <td>...</td>\n",
       "      <td>...</td>\n",
       "      <td>...</td>\n",
       "      <td>...</td>\n",
       "      <td>...</td>\n",
       "      <td>...</td>\n",
       "      <td>...</td>\n",
       "      <td>...</td>\n",
       "      <td>...</td>\n",
       "      <td>...</td>\n",
       "      <td>...</td>\n",
       "      <td>...</td>\n",
       "      <td>...</td>\n",
       "      <td>...</td>\n",
       "    </tr>\n",
       "    <tr>\n",
       "      <th>270</th>\n",
       "      <td>16</td>\n",
       "      <td>0</td>\n",
       "      <td>0</td>\n",
       "      <td>0</td>\n",
       "      <td>0</td>\n",
       "      <td>0</td>\n",
       "      <td>0</td>\n",
       "      <td>0</td>\n",
       "      <td>0</td>\n",
       "      <td>0</td>\n",
       "      <td>...</td>\n",
       "      <td>0</td>\n",
       "      <td>0</td>\n",
       "      <td>0</td>\n",
       "      <td>0</td>\n",
       "      <td>0</td>\n",
       "      <td>0</td>\n",
       "      <td>1</td>\n",
       "      <td>0</td>\n",
       "      <td>0</td>\n",
       "      <td>1</td>\n",
       "    </tr>\n",
       "    <tr>\n",
       "      <th>271</th>\n",
       "      <td>15</td>\n",
       "      <td>0</td>\n",
       "      <td>1</td>\n",
       "      <td>0</td>\n",
       "      <td>0</td>\n",
       "      <td>0</td>\n",
       "      <td>0</td>\n",
       "      <td>0</td>\n",
       "      <td>0</td>\n",
       "      <td>0</td>\n",
       "      <td>...</td>\n",
       "      <td>0</td>\n",
       "      <td>0</td>\n",
       "      <td>0</td>\n",
       "      <td>0</td>\n",
       "      <td>0</td>\n",
       "      <td>0</td>\n",
       "      <td>0</td>\n",
       "      <td>0</td>\n",
       "      <td>0</td>\n",
       "      <td>1</td>\n",
       "    </tr>\n",
       "    <tr>\n",
       "      <th>272</th>\n",
       "      <td>35</td>\n",
       "      <td>0</td>\n",
       "      <td>1</td>\n",
       "      <td>0</td>\n",
       "      <td>0</td>\n",
       "      <td>0</td>\n",
       "      <td>0</td>\n",
       "      <td>0</td>\n",
       "      <td>0</td>\n",
       "      <td>0</td>\n",
       "      <td>...</td>\n",
       "      <td>0</td>\n",
       "      <td>0</td>\n",
       "      <td>0</td>\n",
       "      <td>0</td>\n",
       "      <td>0</td>\n",
       "      <td>0</td>\n",
       "      <td>0</td>\n",
       "      <td>0</td>\n",
       "      <td>0</td>\n",
       "      <td>1</td>\n",
       "    </tr>\n",
       "    <tr>\n",
       "      <th>273</th>\n",
       "      <td>49</td>\n",
       "      <td>0</td>\n",
       "      <td>1</td>\n",
       "      <td>0</td>\n",
       "      <td>0</td>\n",
       "      <td>0</td>\n",
       "      <td>0</td>\n",
       "      <td>0</td>\n",
       "      <td>0</td>\n",
       "      <td>0</td>\n",
       "      <td>...</td>\n",
       "      <td>0</td>\n",
       "      <td>0</td>\n",
       "      <td>0</td>\n",
       "      <td>0</td>\n",
       "      <td>0</td>\n",
       "      <td>0</td>\n",
       "      <td>0</td>\n",
       "      <td>0</td>\n",
       "      <td>0</td>\n",
       "      <td>1</td>\n",
       "    </tr>\n",
       "    <tr>\n",
       "      <th>274</th>\n",
       "      <td>37</td>\n",
       "      <td>0</td>\n",
       "      <td>0</td>\n",
       "      <td>0</td>\n",
       "      <td>1</td>\n",
       "      <td>0</td>\n",
       "      <td>0</td>\n",
       "      <td>0</td>\n",
       "      <td>0</td>\n",
       "      <td>0</td>\n",
       "      <td>...</td>\n",
       "      <td>0</td>\n",
       "      <td>0</td>\n",
       "      <td>0</td>\n",
       "      <td>0</td>\n",
       "      <td>0</td>\n",
       "      <td>0</td>\n",
       "      <td>0</td>\n",
       "      <td>0</td>\n",
       "      <td>0</td>\n",
       "      <td>1</td>\n",
       "    </tr>\n",
       "  </tbody>\n",
       "</table>\n",
       "<p>275 rows × 23 columns</p>\n",
       "</div>"
      ],
      "text/plain": [
       "     surface_reelle_bati  75001  75002  75003  75004  75005  75006  75007  \\\n",
       "0                     25      1      0      0      0      0      0      0   \n",
       "1                     22      0      0      1      0      0      0      0   \n",
       "2                     65      0      0      1      0      0      0      0   \n",
       "3                     74      0      0      0      0      0      0      0   \n",
       "4                     22      0      0      0      0      0      0      0   \n",
       "..                   ...    ...    ...    ...    ...    ...    ...    ...   \n",
       "270                   16      0      0      0      0      0      0      0   \n",
       "271                   15      0      1      0      0      0      0      0   \n",
       "272                   35      0      1      0      0      0      0      0   \n",
       "273                   49      0      1      0      0      0      0      0   \n",
       "274                   37      0      0      0      1      0      0      0   \n",
       "\n",
       "     75008  75009  ...  75013  75014  75015  75016  75017  75018  75019  \\\n",
       "0        0      0  ...      0      0      0      0      0      0      0   \n",
       "1        0      0  ...      0      0      0      0      0      0      0   \n",
       "2        0      0  ...      0      0      0      0      0      0      0   \n",
       "3        1      0  ...      0      0      0      0      0      0      0   \n",
       "4        1      0  ...      0      0      0      0      0      0      0   \n",
       "..     ...    ...  ...    ...    ...    ...    ...    ...    ...    ...   \n",
       "270      0      0  ...      0      0      0      0      0      0      1   \n",
       "271      0      0  ...      0      0      0      0      0      0      0   \n",
       "272      0      0  ...      0      0      0      0      0      0      0   \n",
       "273      0      0  ...      0      0      0      0      0      0      0   \n",
       "274      0      0  ...      0      0      0      0      0      0      0   \n",
       "\n",
       "     75020  Appartement  Local industriel. commercial ou assimilé  \n",
       "0        0            1                                         0  \n",
       "1        0            1                                         0  \n",
       "2        0            1                                         0  \n",
       "3        0            1                                         0  \n",
       "4        0            1                                         0  \n",
       "..     ...          ...                                       ...  \n",
       "270      0            0                                         1  \n",
       "271      0            0                                         1  \n",
       "272      0            0                                         1  \n",
       "273      0            0                                         1  \n",
       "274      0            0                                         1  \n",
       "\n",
       "[275 rows x 23 columns]"
      ]
     },
     "execution_count": 157,
     "metadata": {},
     "output_type": "execute_result"
    }
   ],
   "source": [
    "data_immobiliers"
   ]
  },
  {
   "cell_type": "code",
   "execution_count": 158,
   "id": "c1801f28",
   "metadata": {},
   "outputs": [],
   "source": [
    "#On importe la librairie datetime pour pouvoir créer une colonne timestamp avec la date du 31 décembre 2022 pour la prédiction\n",
    "import datetime as dt"
   ]
  },
  {
   "cell_type": "code",
   "execution_count": 159,
   "id": "35b932ff",
   "metadata": {},
   "outputs": [
    {
     "name": "stdout",
     "output_type": "stream",
     "text": [
      "0     2022-12-31\n",
      "1     2022-12-31\n",
      "2     2022-12-31\n",
      "3     2022-12-31\n",
      "4     2022-12-31\n",
      "         ...    \n",
      "270   2022-12-31\n",
      "271   2022-12-31\n",
      "272   2022-12-31\n",
      "273   2022-12-31\n",
      "274   2022-12-31\n",
      "Name: date, Length: 275, dtype: datetime64[ns]\n"
     ]
    }
   ],
   "source": [
    "data_immobiliers['date'] = pd.to_datetime('2022-12-31')\n",
    "print(data_immobiliers['date'])"
   ]
  },
  {
   "cell_type": "code",
   "execution_count": 160,
   "id": "65c78d9c",
   "metadata": {},
   "outputs": [],
   "source": [
    "data_immobiliers['date_mutation_s'] = (data_immobiliers['date'] - date_reference).dt.total_seconds()"
   ]
  },
  {
   "cell_type": "code",
   "execution_count": 161,
   "id": "7404dd2f",
   "metadata": {},
   "outputs": [],
   "source": [
    "data_immobiliers_nouveau=data_immobiliers[['surface_reelle_bati',75001,75002,75003,75004,75005,75006,75007,75008,75009,75010,75011,75012,75013,75014,75015,75016,75017,75018,75019,75020,'Appartement','Local industriel. commercial ou assimilé','date_mutation_s']]"
   ]
  },
  {
   "cell_type": "code",
   "execution_count": 162,
   "id": "d6c8f24f",
   "metadata": {},
   "outputs": [
    {
     "name": "stderr",
     "output_type": "stream",
     "text": [
      "C:\\Users\\laghz\\AppData\\Local\\Temp\\ipykernel_14140\\2768993079.py:1: SettingWithCopyWarning: \n",
      "A value is trying to be set on a copy of a slice from a DataFrame\n",
      "\n",
      "See the caveats in the documentation: https://pandas.pydata.org/pandas-docs/stable/user_guide/indexing.html#returning-a-view-versus-a-copy\n",
      "  data_immobiliers_nouveau.rename(columns={'surface_reelle_bati':'surface_reelle'},inplace=True)\n"
     ]
    }
   ],
   "source": [
    "data_immobiliers_nouveau.rename(columns={'surface_reelle_bati':'surface_reelle'},inplace=True)"
   ]
  },
  {
   "cell_type": "code",
   "execution_count": 163,
   "id": "92c0fab1",
   "metadata": {},
   "outputs": [],
   "source": [
    "#Conversion du dataframe en str\n",
    "data_immobiliers_nouveau.columns = data_immobiliers_nouveau.columns.astype(str)\n"
   ]
  },
  {
   "cell_type": "markdown",
   "id": "fbb93276",
   "metadata": {},
   "source": [
    "Notre dataframe est prêt à être utilisé par notre algorithme de prédiction."
   ]
  },
  {
   "cell_type": "code",
   "execution_count": 164,
   "id": "c39e7427",
   "metadata": {},
   "outputs": [],
   "source": [
    "#On effectue la prédiction\n",
    "y_pred_nouveau=model_line.predict(data_immobiliers_nouveau)\n"
   ]
  },
  {
   "cell_type": "code",
   "execution_count": 165,
   "id": "faa39618",
   "metadata": {},
   "outputs": [
    {
     "data": {
      "text/plain": [
       "array([433567.93072458, 372408.97900172, 820218.5742067 , 884292.83709188,\n",
       "       342755.65219283, 478139.94841759, 393237.33226707, 640196.15521838,\n",
       "       149121.45771349, 147768.51322213])"
      ]
     },
     "execution_count": 165,
     "metadata": {},
     "output_type": "execute_result"
    }
   ],
   "source": [
    "#On vérifie les 10 premières valeurs\n",
    "y_pred_nouveau[:10]"
   ]
  },
  {
   "cell_type": "markdown",
   "id": "718df322",
   "metadata": {},
   "source": [
    "Maintenant nous allons comparer la valorisation prédite pour les deux segments."
   ]
  },
  {
   "cell_type": "code",
   "execution_count": 166,
   "id": "82952766",
   "metadata": {},
   "outputs": [],
   "source": [
    "data_immobiliers_nouveau['valeur_fonciere_predict']=y_pred_nouveau"
   ]
  },
  {
   "cell_type": "code",
   "execution_count": 167,
   "id": "12094465",
   "metadata": {},
   "outputs": [
    {
     "name": "stdout",
     "output_type": "stream",
     "text": [
      "la valorisation du segment particulier est (en millions deuros):\n"
     ]
    },
    {
     "data": {
      "text/plain": [
       "71.23716023200699"
      ]
     },
     "execution_count": 167,
     "metadata": {},
     "output_type": "execute_result"
    }
   ],
   "source": [
    "#Valorisation du portefeuille sur le segment des particuliers\n",
    "print('la valorisation du segment particulier est (en millions deuros):')\n",
    "data_immobiliers_nouveau.loc[data_immobiliers_nouveau['Appartement']==1]['valeur_fonciere_predict'].sum()/1000000"
   ]
  },
  {
   "cell_type": "code",
   "execution_count": 168,
   "id": "b6df7e85",
   "metadata": {},
   "outputs": [
    {
     "name": "stdout",
     "output_type": "stream",
     "text": [
      "la valorisation du segment corporate est (en millions deuros):\n"
     ]
    },
    {
     "data": {
      "text/plain": [
       "98.31912849022572"
      ]
     },
     "execution_count": 168,
     "metadata": {},
     "output_type": "execute_result"
    }
   ],
   "source": [
    "#Valorisation du portefeuille sur le segment corporate\n",
    "print('la valorisation du segment corporate est (en millions deuros):')\n",
    "data_immobiliers_nouveau.loc[data_immobiliers_nouveau['Local industriel. commercial ou assimilé']==1]['valeur_fonciere_predict'].sum()/1000000"
   ]
  },
  {
   "cell_type": "markdown",
   "id": "0372ca62",
   "metadata": {},
   "source": [
    "Mes conclusions sur le segment avec la plus grande valorisation et sur les limites de cette estimation :\n",
    "- ?\n",
    "- ?"
   ]
  },
  {
   "cell_type": "markdown",
   "id": "1c20b98f",
   "metadata": {},
   "source": [
    "# Milestone 4 - Classification des données issues du jeu de test"
   ]
  },
  {
   "cell_type": "markdown",
   "id": "130e73ae",
   "metadata": {},
   "source": [
    "Dans cette partie nous allons labelliser automatiquement les biens immobiliers comme étant :\n",
    "- soit des Appartements\n",
    "- soit des Local industriel. commercial ou assimilé\n",
    "Pour cela nous allons utiliser l'algorithme du KMeans sur le jeu de données partagé par l'entreprise.\n",
    "\n",
    "Pour que l'algorithme fonctionne, il faut que nous préparions les données en supprimant les dimensions inutiles et en nous concentrant sur le facteur discriminant entre les appartements et les locaux commerciaux : la différence dans le prix au mètre carré tel que nous l'avons vu avant."
   ]
  },
  {
   "cell_type": "code",
   "execution_count": 184,
   "id": "a2f508e6",
   "metadata": {},
   "outputs": [
    {
     "data": {
      "text/html": [
       "<div>\n",
       "<style scoped>\n",
       "    .dataframe tbody tr th:only-of-type {\n",
       "        vertical-align: middle;\n",
       "    }\n",
       "\n",
       "    .dataframe tbody tr th {\n",
       "        vertical-align: top;\n",
       "    }\n",
       "\n",
       "    .dataframe thead th {\n",
       "        text-align: right;\n",
       "    }\n",
       "</style>\n",
       "<table border=\"1\" class=\"dataframe\">\n",
       "  <thead>\n",
       "    <tr style=\"text-align: right;\">\n",
       "      <th></th>\n",
       "      <th>valeur_fonciere</th>\n",
       "      <th>code_postal</th>\n",
       "      <th>nom_commune</th>\n",
       "      <th>surface_reelle</th>\n",
       "    </tr>\n",
       "  </thead>\n",
       "  <tbody>\n",
       "    <tr>\n",
       "      <th>0</th>\n",
       "      <td>868687.083271</td>\n",
       "      <td>75019</td>\n",
       "      <td>Paris 19e Arrondissement</td>\n",
       "      <td>88</td>\n",
       "    </tr>\n",
       "    <tr>\n",
       "      <th>1</th>\n",
       "      <td>452050.762192</td>\n",
       "      <td>75019</td>\n",
       "      <td>Paris 19e Arrondissement</td>\n",
       "      <td>45</td>\n",
       "    </tr>\n",
       "    <tr>\n",
       "      <th>2</th>\n",
       "      <td>193088.653587</td>\n",
       "      <td>75019</td>\n",
       "      <td>Paris 19e Arrondissement</td>\n",
       "      <td>21</td>\n",
       "    </tr>\n",
       "    <tr>\n",
       "      <th>3</th>\n",
       "      <td>303012.549370</td>\n",
       "      <td>75019</td>\n",
       "      <td>Paris 19e Arrondissement</td>\n",
       "      <td>32</td>\n",
       "    </tr>\n",
       "    <tr>\n",
       "      <th>4</th>\n",
       "      <td>149272.200110</td>\n",
       "      <td>75019</td>\n",
       "      <td>Paris 19e Arrondissement</td>\n",
       "      <td>20</td>\n",
       "    </tr>\n",
       "  </tbody>\n",
       "</table>\n",
       "</div>"
      ],
      "text/plain": [
       "   valeur_fonciere  code_postal               nom_commune  surface_reelle\n",
       "0    868687.083271        75019  Paris 19e Arrondissement              88\n",
       "1    452050.762192        75019  Paris 19e Arrondissement              45\n",
       "2    193088.653587        75019  Paris 19e Arrondissement              21\n",
       "3    303012.549370        75019  Paris 19e Arrondissement              32\n",
       "4    149272.200110        75019  Paris 19e Arrondissement              20"
      ]
     },
     "execution_count": 184,
     "metadata": {},
     "output_type": "execute_result"
    }
   ],
   "source": [
    "#On importe les données dans un dataframe\n",
    "echantillon= pd.read_excel(\"echantillon_a_classer2.xlsx\")\n",
    "echantillon.head()"
   ]
  },
  {
   "cell_type": "markdown",
   "id": "fbf40fbf",
   "metadata": {},
   "source": [
    "On applique les transformations nécessaires. Tout d'abord nous allons calculer le prix au mètre carré en divisant la valeur foncière par la surface. Ensuite nous allons retirer ces colonnes car nous avons déjà l'information qu'elles contiennent dans la dimension prix au mètre carré désormais.\n",
    "\n",
    "Enfin toutes nos données sont de l'année 2021. Nous allons retirer cette dimension qui ne devrait pas être discriminante dans le regroupement des données."
   ]
  },
  {
   "cell_type": "code",
   "execution_count": 185,
   "id": "d724e82e",
   "metadata": {},
   "outputs": [],
   "source": [
    "echantillon['prix_au_metre_carre']=echantillon['valeur_fonciere']/echantillon['surface_reelle']\n"
   ]
  },
  {
   "cell_type": "code",
   "execution_count": 186,
   "id": "48e10b19",
   "metadata": {},
   "outputs": [
    {
     "data": {
      "text/html": [
       "<div>\n",
       "<style scoped>\n",
       "    .dataframe tbody tr th:only-of-type {\n",
       "        vertical-align: middle;\n",
       "    }\n",
       "\n",
       "    .dataframe tbody tr th {\n",
       "        vertical-align: top;\n",
       "    }\n",
       "\n",
       "    .dataframe thead th {\n",
       "        text-align: right;\n",
       "    }\n",
       "</style>\n",
       "<table border=\"1\" class=\"dataframe\">\n",
       "  <thead>\n",
       "    <tr style=\"text-align: right;\">\n",
       "      <th></th>\n",
       "      <th>code_postal</th>\n",
       "      <th>prix_au_metre_carre</th>\n",
       "    </tr>\n",
       "  </thead>\n",
       "  <tbody>\n",
       "    <tr>\n",
       "      <th>0</th>\n",
       "      <td>75019</td>\n",
       "      <td>9871.444128</td>\n",
       "    </tr>\n",
       "    <tr>\n",
       "      <th>1</th>\n",
       "      <td>75019</td>\n",
       "      <td>10045.572493</td>\n",
       "    </tr>\n",
       "    <tr>\n",
       "      <th>2</th>\n",
       "      <td>75019</td>\n",
       "      <td>9194.697790</td>\n",
       "    </tr>\n",
       "    <tr>\n",
       "      <th>3</th>\n",
       "      <td>75019</td>\n",
       "      <td>9469.142168</td>\n",
       "    </tr>\n",
       "    <tr>\n",
       "      <th>4</th>\n",
       "      <td>75019</td>\n",
       "      <td>7463.610005</td>\n",
       "    </tr>\n",
       "  </tbody>\n",
       "</table>\n",
       "</div>"
      ],
      "text/plain": [
       "   code_postal  prix_au_metre_carre\n",
       "0        75019          9871.444128\n",
       "1        75019         10045.572493\n",
       "2        75019          9194.697790\n",
       "3        75019          9469.142168\n",
       "4        75019          7463.610005"
      ]
     },
     "execution_count": 186,
     "metadata": {},
     "output_type": "execute_result"
    }
   ],
   "source": [
    "X=echantillon.drop(columns=['valeur_fonciere','surface_reelle','nom_commune'])\n",
    "X.head()"
   ]
  },
  {
   "cell_type": "code",
   "execution_count": 187,
   "id": "6ef6bdba",
   "metadata": {},
   "outputs": [
    {
     "data": {
      "text/plain": [
       "Text(0, 0.5, 'prix_au_metre_carre')"
      ]
     },
     "execution_count": 187,
     "metadata": {},
     "output_type": "execute_result"
    },
    {
     "data": {
      "image/png": "[encoded data removed]",
      "text/plain": [
       "<Figure size 640x480 with 1 Axes>"
      ]
     },
     "metadata": {},
     "output_type": "display_data"
    }
   ],
   "source": [
    "plt.scatter(X['prix_au_metre_carre'],X['code_postal'])\n",
    "plt.xlabel('code_postal')\n",
    "plt.ylabel('prix_au_metre_carre')"
   ]
  },
  {
   "cell_type": "markdown",
   "id": "d3cd06b4",
   "metadata": {},
   "source": [
    "Nous observons dans les données que nous avons des valeurs différentes de prix au mètre carré pour un même arrondissement (ici le 19ème arrondissement). Il se peut fort que cela soit notre dimension à utiliser pour attribuer les prix au mètre carré les plus élévé dans un département aux locaux commerciaux, et les prix les plus bas aux appartements.\n",
    "\n",
    "Pour effectuer cette opération, nous allons utiliser l'algorithme du Kmeans qui va rechercher 2 centroïdes à travers les données."
   ]
  },
  {
   "cell_type": "code",
   "execution_count": 188,
   "id": "4cd15e98",
   "metadata": {},
   "outputs": [],
   "source": [
    "from sklearn.cluster import KMeans"
   ]
  },
  {
   "cell_type": "code",
   "execution_count": 189,
   "id": "f22fc23b",
   "metadata": {},
   "outputs": [
    {
     "name": "stderr",
     "output_type": "stream",
     "text": [
      "C:\\Users\\laghz\\anaconda3\\Lib\\site-packages\\sklearn\\cluster\\_kmeans.py:1416: FutureWarning: The default value of `n_init` will change from 10 to 'auto' in 1.4. Set the value of `n_init` explicitly to suppress the warning\n",
      "  super()._check_params_vs_input(X, default_n_init=10)\n",
      "C:\\Users\\laghz\\anaconda3\\Lib\\site-packages\\sklearn\\cluster\\_kmeans.py:1440: UserWarning: KMeans is known to have a memory leak on Windows with MKL, when there are less chunks than available threads. You can avoid it by setting the environment variable OMP_NUM_THREADS=1.\n",
      "  warnings.warn(\n",
      "C:\\Users\\laghz\\anaconda3\\Lib\\site-packages\\sklearn\\cluster\\_kmeans.py:1416: FutureWarning: The default value of `n_init` will change from 10 to 'auto' in 1.4. Set the value of `n_init` explicitly to suppress the warning\n",
      "  super()._check_params_vs_input(X, default_n_init=10)\n",
      "C:\\Users\\laghz\\anaconda3\\Lib\\site-packages\\sklearn\\cluster\\_kmeans.py:1440: UserWarning: KMeans is known to have a memory leak on Windows with MKL, when there are less chunks than available threads. You can avoid it by setting the environment variable OMP_NUM_THREADS=1.\n",
      "  warnings.warn(\n",
      "C:\\Users\\laghz\\anaconda3\\Lib\\site-packages\\sklearn\\cluster\\_kmeans.py:1416: FutureWarning: The default value of `n_init` will change from 10 to 'auto' in 1.4. Set the value of `n_init` explicitly to suppress the warning\n",
      "  super()._check_params_vs_input(X, default_n_init=10)\n",
      "C:\\Users\\laghz\\anaconda3\\Lib\\site-packages\\sklearn\\cluster\\_kmeans.py:1440: UserWarning: KMeans is known to have a memory leak on Windows with MKL, when there are less chunks than available threads. You can avoid it by setting the environment variable OMP_NUM_THREADS=1.\n",
      "  warnings.warn(\n",
      "C:\\Users\\laghz\\anaconda3\\Lib\\site-packages\\sklearn\\cluster\\_kmeans.py:1416: FutureWarning: The default value of `n_init` will change from 10 to 'auto' in 1.4. Set the value of `n_init` explicitly to suppress the warning\n",
      "  super()._check_params_vs_input(X, default_n_init=10)\n",
      "C:\\Users\\laghz\\anaconda3\\Lib\\site-packages\\sklearn\\cluster\\_kmeans.py:1440: UserWarning: KMeans is known to have a memory leak on Windows with MKL, when there are less chunks than available threads. You can avoid it by setting the environment variable OMP_NUM_THREADS=1.\n",
      "  warnings.warn(\n",
      "C:\\Users\\laghz\\anaconda3\\Lib\\site-packages\\sklearn\\cluster\\_kmeans.py:1416: FutureWarning: The default value of `n_init` will change from 10 to 'auto' in 1.4. Set the value of `n_init` explicitly to suppress the warning\n",
      "  super()._check_params_vs_input(X, default_n_init=10)\n",
      "C:\\Users\\laghz\\anaconda3\\Lib\\site-packages\\sklearn\\cluster\\_kmeans.py:1440: UserWarning: KMeans is known to have a memory leak on Windows with MKL, when there are less chunks than available threads. You can avoid it by setting the environment variable OMP_NUM_THREADS=1.\n",
      "  warnings.warn(\n",
      "C:\\Users\\laghz\\anaconda3\\Lib\\site-packages\\sklearn\\cluster\\_kmeans.py:1416: FutureWarning: The default value of `n_init` will change from 10 to 'auto' in 1.4. Set the value of `n_init` explicitly to suppress the warning\n",
      "  super()._check_params_vs_input(X, default_n_init=10)\n",
      "C:\\Users\\laghz\\anaconda3\\Lib\\site-packages\\sklearn\\cluster\\_kmeans.py:1440: UserWarning: KMeans is known to have a memory leak on Windows with MKL, when there are less chunks than available threads. You can avoid it by setting the environment variable OMP_NUM_THREADS=1.\n",
      "  warnings.warn(\n",
      "C:\\Users\\laghz\\anaconda3\\Lib\\site-packages\\sklearn\\cluster\\_kmeans.py:1416: FutureWarning: The default value of `n_init` will change from 10 to 'auto' in 1.4. Set the value of `n_init` explicitly to suppress the warning\n",
      "  super()._check_params_vs_input(X, default_n_init=10)\n",
      "C:\\Users\\laghz\\anaconda3\\Lib\\site-packages\\sklearn\\cluster\\_kmeans.py:1440: UserWarning: KMeans is known to have a memory leak on Windows with MKL, when there are less chunks than available threads. You can avoid it by setting the environment variable OMP_NUM_THREADS=1.\n",
      "  warnings.warn(\n",
      "C:\\Users\\laghz\\anaconda3\\Lib\\site-packages\\sklearn\\cluster\\_kmeans.py:1416: FutureWarning: The default value of `n_init` will change from 10 to 'auto' in 1.4. Set the value of `n_init` explicitly to suppress the warning\n",
      "  super()._check_params_vs_input(X, default_n_init=10)\n",
      "C:\\Users\\laghz\\anaconda3\\Lib\\site-packages\\sklearn\\cluster\\_kmeans.py:1440: UserWarning: KMeans is known to have a memory leak on Windows with MKL, when there are less chunks than available threads. You can avoid it by setting the environment variable OMP_NUM_THREADS=1.\n",
      "  warnings.warn(\n",
      "C:\\Users\\laghz\\anaconda3\\Lib\\site-packages\\sklearn\\cluster\\_kmeans.py:1416: FutureWarning: The default value of `n_init` will change from 10 to 'auto' in 1.4. Set the value of `n_init` explicitly to suppress the warning\n",
      "  super()._check_params_vs_input(X, default_n_init=10)\n",
      "C:\\Users\\laghz\\anaconda3\\Lib\\site-packages\\sklearn\\cluster\\_kmeans.py:1440: UserWarning: KMeans is known to have a memory leak on Windows with MKL, when there are less chunks than available threads. You can avoid it by setting the environment variable OMP_NUM_THREADS=1.\n",
      "  warnings.warn(\n",
      "C:\\Users\\laghz\\anaconda3\\Lib\\site-packages\\sklearn\\cluster\\_kmeans.py:1416: FutureWarning: The default value of `n_init` will change from 10 to 'auto' in 1.4. Set the value of `n_init` explicitly to suppress the warning\n",
      "  super()._check_params_vs_input(X, default_n_init=10)\n",
      "C:\\Users\\laghz\\anaconda3\\Lib\\site-packages\\sklearn\\cluster\\_kmeans.py:1440: UserWarning: KMeans is known to have a memory leak on Windows with MKL, when there are less chunks than available threads. You can avoid it by setting the environment variable OMP_NUM_THREADS=1.\n",
      "  warnings.warn(\n"
     ]
    }
   ],
   "source": [
    "inert= []\n",
    "for i in range(1,11) :\n",
    "    Kmeans=KMeans(n_clusters=i)\n",
    "    Kmeans.fit(np.array(X['prix_au_metre_carre']).reshape(-1,1))\n",
    "    inert.append(Kmeans.inertia_) "
   ]
  },
  {
   "cell_type": "code",
   "execution_count": 190,
   "id": "64aa72b3",
   "metadata": {},
   "outputs": [
    {
     "data": {
      "image/png": "[encoded data removed]",
      "text/plain": [
       "<Figure size 640x480 with 1 Axes>"
      ]
     },
     "metadata": {},
     "output_type": "display_data"
    }
   ],
   "source": [
    "plt.plot(range(1,11),inert)\n",
    "plt.title('la méthode Elbow')\n",
    "plt.xlabel('Nombre de clusters')\n",
    "plt.ylabel('inertia')\n",
    "plt.show()"
   ]
  },
  {
   "cell_type": "code",
   "execution_count": 191,
   "id": "d07de8f3",
   "metadata": {},
   "outputs": [],
   "source": [
    " #Le nombre de clusters idéal c'est 2"
   ]
  },
  {
   "cell_type": "code",
   "execution_count": 192,
   "id": "4247b9b7",
   "metadata": {},
   "outputs": [
    {
     "name": "stderr",
     "output_type": "stream",
     "text": [
      "C:\\Users\\laghz\\anaconda3\\Lib\\site-packages\\sklearn\\cluster\\_kmeans.py:1416: FutureWarning: The default value of `n_init` will change from 10 to 'auto' in 1.4. Set the value of `n_init` explicitly to suppress the warning\n",
      "  super()._check_params_vs_input(X, default_n_init=10)\n",
      "C:\\Users\\laghz\\anaconda3\\Lib\\site-packages\\sklearn\\cluster\\_kmeans.py:1440: UserWarning: KMeans is known to have a memory leak on Windows with MKL, when there are less chunks than available threads. You can avoid it by setting the environment variable OMP_NUM_THREADS=1.\n",
      "  warnings.warn(\n"
     ]
    },
    {
     "data": {
      "text/html": [
       "<style>#sk-container-id-3 {color: black;}#sk-container-id-3 pre{padding: 0;}#sk-container-id-3 div.sk-toggleable {background-color: white;}#sk-container-id-3 label.sk-toggleable__label {cursor: pointer;display: block;width: 100%;margin-bottom: 0;padding: 0.3em;box-sizing: border-box;text-align: center;}#sk-container-id-3 label.sk-toggleable__label-arrow:before {content: \"▸\";float: left;margin-right: 0.25em;color: #696969;}#sk-container-id-3 label.sk-toggleable__label-arrow:hover:before {color: black;}#sk-container-id-3 div.sk-estimator:hover label.sk-toggleable__label-arrow:before {color: black;}#sk-container-id-3 div.sk-toggleable__content {max-height: 0;max-width: 0;overflow: hidden;text-align: left;background-color: #f0f8ff;}#sk-container-id-3 div.sk-toggleable__content pre {margin: 0.2em;color: black;border-radius: 0.25em;background-color: #f0f8ff;}#sk-container-id-3 input.sk-toggleable__control:checked~div.sk-toggleable__content {max-height: 200px;max-width: 100%;overflow: auto;}#sk-container-id-3 input.sk-toggleable__control:checked~label.sk-toggleable__label-arrow:before {content: \"▾\";}#sk-container-id-3 div.sk-estimator input.sk-toggleable__control:checked~label.sk-toggleable__label {background-color: #d4ebff;}#sk-container-id-3 div.sk-label input.sk-toggleable__control:checked~label.sk-toggleable__label {background-color: #d4ebff;}#sk-container-id-3 input.sk-hidden--visually {border: 0;clip: rect(1px 1px 1px 1px);clip: rect(1px, 1px, 1px, 1px);height: 1px;margin: -1px;overflow: hidden;padding: 0;position: absolute;width: 1px;}#sk-container-id-3 div.sk-estimator {font-family: monospace;background-color: #f0f8ff;border: 1px dotted black;border-radius: 0.25em;box-sizing: border-box;margin-bottom: 0.5em;}#sk-container-id-3 div.sk-estimator:hover {background-color: #d4ebff;}#sk-container-id-3 div.sk-parallel-item::after {content: \"\";width: 100%;border-bottom: 1px solid gray;flex-grow: 1;}#sk-container-id-3 div.sk-label:hover label.sk-toggleable__label {background-color: #d4ebff;}#sk-container-id-3 div.sk-serial::before {content: \"\";position: absolute;border-left: 1px solid gray;box-sizing: border-box;top: 0;bottom: 0;left: 50%;z-index: 0;}#sk-container-id-3 div.sk-serial {display: flex;flex-direction: column;align-items: center;background-color: white;padding-right: 0.2em;padding-left: 0.2em;position: relative;}#sk-container-id-3 div.sk-item {position: relative;z-index: 1;}#sk-container-id-3 div.sk-parallel {display: flex;align-items: stretch;justify-content: center;background-color: white;position: relative;}#sk-container-id-3 div.sk-item::before, #sk-container-id-3 div.sk-parallel-item::before {content: \"\";position: absolute;border-left: 1px solid gray;box-sizing: border-box;top: 0;bottom: 0;left: 50%;z-index: -1;}#sk-container-id-3 div.sk-parallel-item {display: flex;flex-direction: column;z-index: 1;position: relative;background-color: white;}#sk-container-id-3 div.sk-parallel-item:first-child::after {align-self: flex-end;width: 50%;}#sk-container-id-3 div.sk-parallel-item:last-child::after {align-self: flex-start;width: 50%;}#sk-container-id-3 div.sk-parallel-item:only-child::after {width: 0;}#sk-container-id-3 div.sk-dashed-wrapped {border: 1px dashed gray;margin: 0 0.4em 0.5em 0.4em;box-sizing: border-box;padding-bottom: 0.4em;background-color: white;}#sk-container-id-3 div.sk-label label {font-family: monospace;font-weight: bold;display: inline-block;line-height: 1.2em;}#sk-container-id-3 div.sk-label-container {text-align: center;}#sk-container-id-3 div.sk-container {/* jupyter's `normalize.less` sets `[hidden] { display: none; }` but bootstrap.min.css set `[hidden] { display: none !important; }` so we also need the `!important` here to be able to override the default hidden behavior on the sphinx rendered scikit-learn.org. See: https://github.com/scikit-learn/scikit-learn/issues/21755 */display: inline-block !important;position: relative;}#sk-container-id-3 div.sk-text-repr-fallback {display: none;}</style><div id=\"sk-container-id-3\" class=\"sk-top-container\"><div class=\"sk-text-repr-fallback\"><pre>KMeans(n_clusters=2)</pre><b>In a Jupyter environment, please rerun this cell to show the HTML representation or trust the notebook. <br />On GitHub, the HTML representation is unable to render, please try loading this page with nbviewer.org.</b></div><div class=\"sk-container\" hidden><div class=\"sk-item\"><div class=\"sk-estimator sk-toggleable\"><input class=\"sk-toggleable__control sk-hidden--visually\" id=\"sk-estimator-id-3\" type=\"checkbox\" checked><label for=\"sk-estimator-id-3\" class=\"sk-toggleable__label sk-toggleable__label-arrow\">KMeans</label><div class=\"sk-toggleable__content\"><pre>KMeans(n_clusters=2)</pre></div></div></div></div></div>"
      ],
      "text/plain": [
       "KMeans(n_clusters=2)"
      ]
     },
     "execution_count": 192,
     "metadata": {},
     "output_type": "execute_result"
    }
   ],
   "source": [
    "Kmeans=KMeans(n_clusters=2)\n",
    "Kmeans.fit(X)"
   ]
  },
  {
   "cell_type": "code",
   "execution_count": 193,
   "id": "ebe30276",
   "metadata": {},
   "outputs": [
    {
     "data": {
      "text/plain": [
       "array([0, 0, 0, 0, 1, 0, 0, 1, 0, 1, 1, 0, 1, 0, 1, 1, 1, 0, 0, 1, 1, 1,\n",
       "       0, 1, 1, 1, 0, 0, 0, 1, 0, 1, 0, 1, 1, 1, 0, 1, 0, 0])"
      ]
     },
     "execution_count": 193,
     "metadata": {},
     "output_type": "execute_result"
    }
   ],
   "source": [
    "Kmeans.labels_"
   ]
  },
  {
   "cell_type": "code",
   "execution_count": 194,
   "id": "a9fd14d2",
   "metadata": {},
   "outputs": [],
   "source": [
    "# On vérifie les données de la prédiction\n",
    "X['classe_prediction']=Kmeans.labels_"
   ]
  },
  {
   "cell_type": "code",
   "execution_count": 195,
   "id": "c915c03c",
   "metadata": {},
   "outputs": [
    {
     "name": "stderr",
     "output_type": "stream",
     "text": [
      "No artists with labels found to put in legend.  Note that artists whose label start with an underscore are ignored when legend() is called with no argument.\n"
     ]
    },
    {
     "data": {
      "image/png": "[encoded data removed]",
      "text/plain": [
       "<Figure size 640x480 with 1 Axes>"
      ]
     },
     "metadata": {},
     "output_type": "display_data"
    }
   ],
   "source": [
    "plt.scatter(X['prix_au_metre_carre'],X['code_postal'], c=X['classe_prediction'], cmap='rainbow')\n",
    "plt.title(\"Clustering des biens immobiliers par segment de marché\")\n",
    "plt.xlabel(\"code_postal\")\n",
    "plt.ylabel(\"prix_au_metre_carre\")\n",
    "plt.legend()\n",
    "plt.show()"
   ]
  },
  {
   "cell_type": "markdown",
   "id": "b19ee04c",
   "metadata": {},
   "source": [
    "Nous avons obtenu notre prédiction. Nous pouvons changer les labels et remplacer les valeurs à 0 par Local industriel. commercial ou assimilé et les valeurs à +1 par Appartement. "
   ]
  },
  {
   "cell_type": "code",
   "execution_count": 196,
   "id": "ecb1ec6a",
   "metadata": {},
   "outputs": [],
   "source": [
    "#On affiche les résultats\n"
   ]
  },
  {
   "cell_type": "code",
   "execution_count": 197,
   "id": "30b9f4b5",
   "metadata": {},
   "outputs": [
    {
     "name": "stdout",
     "output_type": "stream",
     "text": [
      "    code_postal  prix_au_metre_carre  classe_prediction type_local_predictions\n",
      "0         75019          9871.444128                  0            appartement\n",
      "1         75019         10045.572493                  0            appartement\n",
      "2         75019          9194.697790                  0            appartement\n",
      "3         75019          9469.142168                  0            appartement\n",
      "4         75019          7463.610005                  1       local industriel\n",
      "5         75019          9982.016919                  0            appartement\n",
      "6         75019          9674.262777                  0            appartement\n",
      "7         75019          7348.917415                  1       local industriel\n",
      "8         75019          9789.051438                  0            appartement\n",
      "9         75019          7616.420959                  1       local industriel\n",
      "10        75019          7490.469041                  1       local industriel\n",
      "11        75019          9518.076103                  0            appartement\n",
      "12        75019          7238.422973                  1       local industriel\n",
      "13        75019          9869.462342                  0            appartement\n",
      "14        75019          7343.539315                  1       local industriel\n",
      "15        75019          7313.114384                  1       local industriel\n",
      "16        75019          7415.564351                  1       local industriel\n",
      "17        75019          9949.544452                  0            appartement\n",
      "18        75019          9978.784822                  0            appartement\n",
      "19        75019          7296.900510                  1       local industriel\n",
      "20        75019          7322.570548                  1       local industriel\n",
      "21        75019          7207.217630                  1       local industriel\n",
      "22        75019          9815.972258                  0            appartement\n",
      "23        75019          7437.880186                  1       local industriel\n",
      "24        75019          7399.266027                  1       local industriel\n",
      "25        75019          7306.810274                  1       local industriel\n",
      "26        75019          9961.146860                  0            appartement\n",
      "27        75019         10103.161577                  0            appartement\n",
      "28        75019          9597.631488                  0            appartement\n",
      "29        75019          7613.514621                  1       local industriel\n",
      "30        75019          9734.720495                  0            appartement\n",
      "31        75019          7666.071700                  1       local industriel\n",
      "32        75019         10113.195822                  0            appartement\n",
      "33        75019          7577.044521                  1       local industriel\n",
      "34        75019          7294.202055                  1       local industriel\n",
      "35        75019          7239.983240                  1       local industriel\n",
      "36        75019          9715.531658                  0            appartement\n",
      "37        75019          7583.980837                  1       local industriel\n",
      "38        75019          9983.591800                  0            appartement\n",
      "39        75019          9771.486096                  0            appartement\n"
     ]
    }
   ],
   "source": [
    "X['type_local_predictions']=X['classe_prediction'].apply(lambda x:'appartement' if x==0 else 'local industriel')\n",
    "print(X)"
   ]
  },
  {
   "cell_type": "markdown",
   "id": "cea621ed",
   "metadata": {},
   "source": [
    "# Milestone 5 - Analyse et présentation des résultats"
   ]
  },
  {
   "cell_type": "markdown",
   "id": "9553046e",
   "metadata": {},
   "source": [
    "Mes conclusions sur l'analyse et les limites de l'exercice :\n",
    "- ?\n",
    "- ?"
   ]
  }
 ],
 "metadata": {
  "kernelspec": {
   "display_name": "Python 3 (ipykernel)",
   "language": "python",
   "name": "python3"
  },
  "language_info": {
   "codemirror_mode": {
    "name": "ipython",
    "version": 3
   },
   "file_extension": ".py",
   "mimetype": "text/x-python",
   "name": "python",
   "nbconvert_exporter": "python",
   "pygments_lexer": "ipython3",
   "version": "3.11.4"
  }
 },
 "nbformat": 4,
 "nbformat_minor": 5
}
